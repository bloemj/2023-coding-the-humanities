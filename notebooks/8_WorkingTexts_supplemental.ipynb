{
 "cells": [
  {
   "cell_type": "markdown",
   "metadata": {},
   "source": [
    "# Working with texts\n",
    "\n",
    "Text Normalization and Pre-processing Pipelines. \n",
    "\n",
    "Let's go back to our brief introduction to working with texts and expand upon it some more (see NOTEBOOK 5).\n",
    "\n",
    "> **NLTK vs. spaCY**\n",
    ">\n",
    "> The code below gives examples of using **NLTK** (https://www.nltk.org/) modules on text. You may want to check out the relatively new **spaCY** (https://spacy.io/usage) package. Depending on the tasks you need to do and the language data that is available, this module offers a faster and more advanced, and more intuitive method to do Natural Language Processing on texts.\n",
    ">\n",
    "> The spaCY documentation pages (e.g. https://spacy.io/usage/linguistic-features) provide a lot of examples. \n"
   ]
  },
  {
   "cell_type": "markdown",
   "metadata": {
    "collapsed": true
   },
   "source": [
    "## A Standard Natural Language Processing (NLP) Pipeline\n",
    "\n",
    "![alt text](images/pipeline.png)"
   ]
  },
  {
   "cell_type": "markdown",
   "metadata": {},
   "source": [
    "---"
   ]
  },
  {
   "cell_type": "markdown",
   "metadata": {
    "collapsed": true
   },
   "source": [
    "### What we hope to get as the final result..."
   ]
  },
  {
   "cell_type": "markdown",
   "metadata": {
    "collapsed": true
   },
   "source": [
    "Go on the Stanford CoreNLP [online demo](http://corenlp.run/) and parse the following sentence:\n",
    "\n",
    "> I think there is a world market for maybe five computers.\n",
    "\n",
    "(allegedly said by Thomas J. Watson, CEO of IBM, in 1943)\n",
    "\n",
    "This might be useful: [list of Penn Treebank POS tags.](https://www.ling.upenn.edu/courses/Fall_2003/ling001/penn_treebank_pos.html)"
   ]
  },
  {
   "cell_type": "markdown",
   "metadata": {},
   "source": [
    "---"
   ]
  },
  {
   "cell_type": "markdown",
   "metadata": {},
   "source": [
    "### A Few Recommendations"
   ]
  },
  {
   "cell_type": "markdown",
   "metadata": {},
   "source": [
    "#### [NLTK](http://www.nltk.org/) (Python)\n",
    "\n",
    "\n",
    "- has a variety of ready/easy-to-use implementations in several languages (some tools available for Dutch as well)\n",
    "\n",
    "\n",
    "- has a variety of APIs for other packages (e.g. Stanford CoreNLP)\n",
    "\n",
    "\n",
    "- lacks Information Extraction features (e.g. coreference resolution, relation extraction)\n",
    "\n",
    "\n",
    "- several implementations are not state-of-the-art and/or are rather slow"
   ]
  },
  {
   "cell_type": "markdown",
   "metadata": {},
   "source": [
    "#### [Stanford CoreNLP](https://stanfordnlp.github.io/CoreNLP/) (Java)\n",
    "\n",
    "\n",
    "- includes virtually any NLP tool\n",
    "\n",
    "\n",
    "- basic distribution for English, but models for the following languages are available: Arabic, Chinese, French, German, and Spanish\n",
    "\n",
    "\n",
    "- implementations are often State-of-the-Art (though some component may not be the most efficient)\n",
    "\n",
    "\n",
    "- has Python wrappers\n",
    "\n",
    "\n",
    "- needs a bit more technical skills than using NLTK"
   ]
  },
  {
   "cell_type": "markdown",
   "metadata": {},
   "source": [
    "#### [spaCy](https://spacy.io) (Python)\n",
    "\n",
    "\n",
    "- industry-ready: scale, performance, getting things done, lacks some flexibility\n",
    "\n",
    "\n",
    "- many models for many languages: English German French Spanish Portuguese Italian Dutch Greek\n",
    "\n",
    "\n",
    "- implementations are often State-of-the-Art\n",
    "\n",
    "\n",
    "- has Python wrappers and the very clean \"spaCy pipeline\" programming interface \n",
    "\n",
    "\n",
    "- comes with many machine learning pre-trained models"
   ]
  },
  {
   "cell_type": "markdown",
   "metadata": {},
   "source": [
    "#### [pattern](https://www.clips.uantwerpen.be/pages/pattern-nl) (NL-EN/Python)\n",
    "\n",
    "\n",
    "- toolbox for Dutch\n",
    "\n",
    "\n",
    "- easy to use\n",
    "\n",
    "\n",
    "- contains modules for PoS tagging, sentiment analysis and a WordNet interface\n",
    "\n",
    "\n",
    "- many interesting datasets available\n",
    "\n",
    "\n",
    "- available for [English](https://www.clips.uantwerpen.be/pages/pattern-en) as well"
   ]
  },
  {
   "cell_type": "markdown",
   "metadata": {},
   "source": [
    "When to use what? Chose by yourself: https://spacy.io/usage/facts-figures"
   ]
  },
  {
   "cell_type": "markdown",
   "metadata": {
    "collapsed": true
   },
   "source": [
    "---"
   ]
  },
  {
   "cell_type": "markdown",
   "metadata": {},
   "source": [
    "### Task-dependent choices"
   ]
  },
  {
   "cell_type": "markdown",
   "metadata": {},
   "source": [
    "#### A note on terminology:\n",
    "\n",
    "* **Type** = abstract ideal form of a sequence of characters (not necessarily a word in a language!)\n",
    "* **Token** = instantiation of a type in our corpus or document\n",
    "\n",
    "For example: *to be or not to be.*\n",
    "\n",
    "* 6 tokens (to, be, or, not, to, be)\n",
    "* 4 types (to, be, or, not)\n",
    "\n",
    "The types coincide with the vocabulary.\n",
    "\n",
    "Note that not all types might be proper words nor have a related lemma in an external lexicon."
   ]
  },
  {
   "cell_type": "markdown",
   "metadata": {},
   "source": [
    "#### Cleaning\n",
    "\n",
    "- remove lists, tables, figure captions, page headers, etc.\n",
    "\n",
    "\n",
    "\n",
    "- text from XML/HTML: remove unwanted code (e.g. head elements, boilerplates, comments, javascript code).\n",
    "\n",
    "\n",
    "\n",
    "- text from PDF: remove noisy characters\n",
    "\n",
    "\n",
    "- OCR errors are systematic: e.g. an \"`m`\" recognized as a \"`rn`\", an \"`e`\" as a \"`c`\", an \"`l`\" as a \"`1`\", an \"`f`\" recognized as a \"`s`\".\n"
   ]
  },
  {
   "cell_type": "markdown",
   "metadata": {},
   "source": [
    "#### Normalization and filtering\n",
    "\n",
    "Reducing the valid vocabulary space or even the text itself by filtering or standardizing. Standardizing might be considered as the task of creating equivalence classes of types. These decisions are application-dependent, might come from trial and error but should motivated in principle.\n",
    "\n",
    "- lowercasing and abbreviations. If you want \"`Train`\" and \"`train`\" to be counted as token of the same type, you should `.lower()` the text, however case-folding may remove disciminative information, e.g., \"`U.S.`\" \"`US`\" vs. \"`us`\".\n",
    "\n",
    "\n",
    "- Hyphenation, accents, ... (\"`text-minig`\", \"`textmining`\", \"`text mining`\"; \"`cliche`\", \"`cliché`\")\n",
    "\n",
    "\n",
    "- Punctuation, digits, misspells, ...\n",
    "\n",
    "\n",
    "- Very frequent or very rare words.\n",
    "\n",
    "\n",
    "- Stopwords (usually, these are very frequent words!).\n",
    "\n",
    "\n",
    "- Specialized portions of the text (e.g., footnotes).\n",
    "\n",
    "\n",
    "- Normalization can also be done via relations, e.g. considering \"`car`\" and \"`automobile`\" as synonyms. We can use [WordNet](https://wordnet.princeton.edu/) for that. "
   ]
  },
  {
   "cell_type": "markdown",
   "metadata": {},
   "source": [
    "> The example below assumes nltk is installed and set up. If you get a `LookupError` while running, it is likely nltk needs to download its materials first. Follow the error and run `nltk.download('stopwords')` in a cell once. "
   ]
  },
  {
   "cell_type": "code",
   "execution_count": null,
   "metadata": {},
   "outputs": [],
   "source": [
    "import nltk\n",
    "from nltk.corpus import stopwords\n",
    "\n",
    "\", \".join(set(stopwords.words('french')))"
   ]
  },
  {
   "cell_type": "markdown",
   "metadata": {},
   "source": [
    "---"
   ]
  },
  {
   "cell_type": "markdown",
   "metadata": {},
   "source": [
    "## Sentence Segmentation (NLTK)\n",
    "\n",
    "In its base form, a text is a stream of characters. \n"
   ]
  },
  {
   "cell_type": "code",
   "execution_count": null,
   "metadata": {},
   "outputs": [],
   "source": [
    "import nltk\n",
    "# nltk.download('gutenberg') # Run if you get an LookupError"
   ]
  },
  {
   "cell_type": "code",
   "execution_count": null,
   "metadata": {
    "scrolled": true
   },
   "outputs": [],
   "source": [
    "text = nltk.corpus.gutenberg.raw('chesterton-thursday.txt')\n",
    "print(text[:1010])"
   ]
  },
  {
   "cell_type": "code",
   "execution_count": null,
   "metadata": {},
   "outputs": [],
   "source": [
    "nltk.corpus.gutenberg.fileids()"
   ]
  },
  {
   "cell_type": "markdown",
   "metadata": {},
   "source": [
    "The first NLP processing step is **the identification of the sentence boundaries**:\n",
    "\n",
    "- some pipelines perform the sentence splitting phase before the tokenization (e.g., NLTK)\n",
    "\n",
    "\n",
    "- while other uses information about the tokens (e.g., CoreNLP) and/or about the parse tree (e.g., spaCy) to identify sentence boundaries"
   ]
  },
  {
   "cell_type": "markdown",
   "metadata": {},
   "source": [
    "The example below uses the built-in [Gutenberg corpus](https://www.nltk.org/book/ch02.html) of NLTK."
   ]
  },
  {
   "cell_type": "code",
   "execution_count": null,
   "metadata": {},
   "outputs": [],
   "source": [
    "# Getting rid of newlines\n",
    "text = nltk.corpus.gutenberg.raw('chesterton-thursday.txt')\n",
    "text = text.replace(\"\\n\", \" \")\n",
    "\n",
    "print(text[:800])"
   ]
  },
  {
   "cell_type": "code",
   "execution_count": null,
   "metadata": {},
   "outputs": [],
   "source": [
    "# Alternatively, the NLTK corpus sents() returns the tokenized words as well \n",
    "for sentence in nltk.corpus.gutenberg.sents('chesterton-thursday.txt')[:8]:\n",
    "    print(\" \".join(sentence))"
   ]
  },
  {
   "cell_type": "markdown",
   "metadata": {},
   "source": [
    " ... but **what is a sentence?**\n",
    " \n",
    " - something ending with \"`.`\", \"`!`\" or \"`?`\", maybe?"
   ]
  },
  {
   "cell_type": "code",
   "execution_count": null,
   "metadata": {},
   "outputs": [],
   "source": [
    "import re\n",
    "re.split(r\"[.?!]\", text[:800])"
   ]
  },
  {
   "cell_type": "code",
   "execution_count": null,
   "metadata": {},
   "outputs": [],
   "source": [
    "print(text[:200])"
   ]
  },
  {
   "cell_type": "markdown",
   "metadata": {},
   "source": [
    "Not really, a period can be used also to denote:\n",
    "\n",
    "- an abbreviation (47% of the periods in the Wall Street Journal denote abbreviations)\n",
    "\n",
    "- decimal point\n",
    "\n",
    "- ellipsis\n",
    "\n",
    "- url or e-mail address..."
   ]
  },
  {
   "cell_type": "markdown",
   "metadata": {
    "collapsed": true
   },
   "source": [
    "Question marks and exclamation marks can be used in:\n",
    "\n",
    "- emoticons and slang\n",
    "\n",
    "- computer code \n",
    "\n",
    "- embedded quotations..."
   ]
  },
  {
   "cell_type": "markdown",
   "metadata": {},
   "source": [
    "Even if heuristic solutions are conceivable (e.g. CoreNLP)...\n",
    "\n",
    "- e.g. *a period is not a sentence boundary if the preceding token is title-cased*"
   ]
  },
  {
   "cell_type": "markdown",
   "metadata": {},
   "source": [
    "...the best option is to treat the sentence boundary identification as a **binary classification problem** (e.g. NLTK), in which possible features can be:\n",
    "\n",
    "- case of the surrounding tokens\n",
    "\n",
    "\n",
    "- length of the surrounding tokens\n",
    "\n",
    "\n",
    "- lemma/type/form of the surrounding tokens"
   ]
  },
  {
   "cell_type": "markdown",
   "metadata": {},
   "source": [
    "#### Tokenizing sentences\n",
    "NLTK has a built-in module for tokenizing sentences that takes into account these *features*. It returns a sentence-tokenized copy of a text, using NLTK's recommended sentence tokenizer."
   ]
  },
  {
   "cell_type": "code",
   "execution_count": null,
   "metadata": {},
   "outputs": [],
   "source": [
    "for sent in nltk.tokenize.sent_tokenize(text[:1010]):\n",
    "    print(sent)\n",
    "    print()"
   ]
  },
  {
   "cell_type": "markdown",
   "metadata": {
    "collapsed": true
   },
   "source": [
    "The accuracy of these classifiers can be as high as over 99%"
   ]
  },
  {
   "cell_type": "markdown",
   "metadata": {
    "collapsed": true
   },
   "source": [
    "NLTK come packed with classifiers trained on 17 languages, among which Dutch:\n",
    "\n",
    "- there are methods that allows you to train your own models as well. This can be useful if you want to process special texts like tweets or facebook messages..."
   ]
  },
  {
   "cell_type": "code",
   "execution_count": null,
   "metadata": {},
   "outputs": [],
   "source": [
    "a_dutch_email = \"\"\"Uw abonnement op uw OV-chipkaart activeren.\n",
    "Het is belangrijk dat u het abonnement op uw OV-chipkaart activeert.\n",
    "Dit kunt u doen bij de NS-kaartautomaat of bij één van de overige ophaalpunten voor de OV-chipkaart. Kijk voor een overzicht van de ophaalpunten op www.ov-chipkaart.nl/adresvinder.\n",
    "Hoe activeert u uw abonnement bij de NS-kaartautomaat?\n",
    "Houd uw OV-chipkaart voor de kaartlezer rechts onder het scherm.\n",
    "Kies 'Ophalen bestelling' en volg de aanwijzingen op het scherm.\n",
    "Voordat u aan uw reis begint dient er minimaal €10,- saldo op uw OV-chipkaart te staan.\n",
    "Vergeet niet in en uit te checken tijdens uw reis.\n",
    "Heeft u nog vragen?\n",
    "We helpen u graag verder. Kijk op www.ns.nl of stel uw vraag op het NS Serviceforum (www.ns.nl/forum). U kunt ook contact opnemen met NS Klantenservice via telefoonnummer 030 - 751 51 55 of via Twitter @NS_online. We staan dag en nacht voor u klaar.\n",
    "\"\"\""
   ]
  },
  {
   "cell_type": "code",
   "execution_count": null,
   "metadata": {},
   "outputs": [],
   "source": [
    "# To make it a bit harder for the tokenizer, present it as one paragraph without line breaks.\n",
    "test_text = a_dutch_email.replace('\\n', ' ')"
   ]
  },
  {
   "cell_type": "code",
   "execution_count": null,
   "metadata": {},
   "outputs": [],
   "source": [
    "nltk.tokenize.sent_tokenize(test_text, language='dutch')"
   ]
  },
  {
   "cell_type": "markdown",
   "metadata": {},
   "source": [
    "---"
   ]
  },
  {
   "cell_type": "markdown",
   "metadata": {},
   "source": [
    "## Tokenization (NLTK)\n",
    "\n",
    "Tokenization is the task of splitting a string of characters into chunks of characters.\n",
    "\n",
    "It is a task that is usually tackled with rule-based or regex-based algorithms."
   ]
  },
  {
   "cell_type": "code",
   "execution_count": null,
   "metadata": {},
   "outputs": [],
   "source": [
    "# It can be performed BEFORE sentence splitting\n",
    "# Here: one list of words (tokens) in the text\n",
    "\n",
    "words = nltk.corpus.gutenberg.words('chesterton-thursday.txt')\n",
    "\n",
    "print(words[:226])"
   ]
  },
  {
   "cell_type": "code",
   "execution_count": null,
   "metadata": {},
   "outputs": [],
   "source": [
    "# It can be performed AFTER sentence splitting\n",
    "# Here: one list of lists (sentences) that contains words (tokens)\n",
    "\n",
    "sents = nltk.corpus.gutenberg.sents('chesterton-thursday.txt')\n",
    "\n",
    "for s in sents[:8]:\n",
    "    print(s)"
   ]
  },
  {
   "cell_type": "markdown",
   "metadata": {},
   "source": [
    "Some of the most recurrent issues with **Tokenization in English**:\n",
    "\n",
    "- contractions: *I'm*, *isn't*, *Gianluca's*\n",
    "\n",
    "\n",
    "- emoticons: *:)*, *;-)*\n",
    "\n",
    "\n",
    "- proper names: *J.K. Rowling*, *F.B.I.*, *O'Neill*\n",
    "\n",
    "\n",
    "- hyphenation can be used in many ways:\n",
    "\n",
    "    - single word: *e-mail*, *co-operation*\n",
    "    - how many words? *so-called*, *pro-gun*\n",
    "    - grouping of words for non-strictly-linguistic purposes: *take-it-or-leave*\n",
    "\n",
    "\n",
    "\n",
    "- multi word expressions (MWE) and collocations:\n",
    "\n",
    "    - phrasal verbs: *give up*, *work out*, *move in*\n",
    "    - multi-token proper names: *New York*, *Las Vegas*\n",
    "    - compound nominals: *car park*, *attorney general*, *part of speech*\n",
    "    - ..."
   ]
  },
  {
   "cell_type": "markdown",
   "metadata": {},
   "source": [
    "The complexity of this task is also **language-dependent**:\n",
    "\n",
    "- e.g. compounds in German: *Donaudampfschifffahrtselektrizitätenhauptbetriebswerkbauunterbeamtengesellschaft* (i.e. \"Association for subordinate officials of the head office management of the Danube steamboat electrical services\")\n",
    "\n",
    "\n",
    "- Chinese is written without spaces between words: 天花 (\"small pot\") vs. 天 (\"sky\") and 花 (\"flower\")."
   ]
  },
  {
   "cell_type": "markdown",
   "metadata": {},
   "source": [
    "Simplest (but suboptimal) solution: **segment around space characters**"
   ]
  },
  {
   "cell_type": "code",
   "execution_count": null,
   "metadata": {},
   "outputs": [],
   "source": [
    "tokens = text.split()\n",
    "\n",
    "print(tokens[:200])"
   ]
  },
  {
   "cell_type": "markdown",
   "metadata": {},
   "source": [
    "There are many issues with this solution, among which the production of tokens such as `'plume.'`, `'thus;'` and `'were--our'`"
   ]
  },
  {
   "cell_type": "markdown",
   "metadata": {},
   "source": [
    "NLTK's recommended word tokenizer is the Penn `nltk.tokenize.TreebankWordTokenizer().tokenize()`, that can be called in many ways, among which the easier is by using the `nltk.tokenize.word_tokenize()` wrapper:"
   ]
  },
  {
   "cell_type": "code",
   "execution_count": null,
   "metadata": {},
   "outputs": [],
   "source": [
    "# This is the same as nltk.tokenize.TreebankWordTokenizer().tokenize(text[:1010])\n",
    "\n",
    "tokens = nltk.tokenize.word_tokenize(text)\n",
    "\n",
    "print(tokens[:200])"
   ]
  },
  {
   "cell_type": "markdown",
   "metadata": {},
   "source": [
    "NLTK offers alternative word tokenizer, that may be more appropriate according to the applications you are developing"
   ]
  },
  {
   "cell_type": "code",
   "execution_count": null,
   "metadata": {},
   "outputs": [],
   "source": [
    "nltk_text = 'That U.S.A. poster-print doesn\\'t cost $12.40...'\n",
    "print(nltk_text.split())"
   ]
  },
  {
   "cell_type": "code",
   "execution_count": null,
   "metadata": {},
   "outputs": [],
   "source": [
    "nltk_text = 'That U.S.A. poster-print doesn\\'t cost $12.40...'\n",
    "print(nltk.tokenize.word_tokenize(nltk_text))"
   ]
  },
  {
   "cell_type": "code",
   "execution_count": null,
   "metadata": {},
   "outputs": [],
   "source": [
    "# nltk.tokenize.wordpunct_tokenize splits all punctuations into separate tokens\n",
    "print(nltk.tokenize.wordpunct_tokenize(nltk_text))"
   ]
  },
  {
   "cell_type": "code",
   "execution_count": null,
   "metadata": {},
   "outputs": [],
   "source": [
    "# nltk.regexp_tokenize() allows you to build a customized tokenizer by specifying a regex pattern\n",
    "pattern = r'''(?x)    # set flag to allow verbose regexps\n",
    "(?:[A-Z]\\.)+          # abbreviations, e.g. U.S.A.\n",
    "|\\w+(?:-\\w+)*         # words with optional internal hyphens\n",
    "|\\$?\\d+(?:\\.\\d+)?%?   # currency and percentages, e.g. $12.40, 82%\n",
    "|\\.\\.\\.               # ellipsis\n",
    "|[][.,;\"\\'?():-_`]    # these are separate tokens\n",
    "'''\n",
    "\n",
    "nltk.regexp_tokenize(nltk_text, pattern)"
   ]
  },
  {
   "cell_type": "markdown",
   "metadata": {},
   "source": [
    "---"
   ]
  },
  {
   "cell_type": "markdown",
   "metadata": {},
   "source": [
    "## Stemming and Lemmatization\n",
    "\n",
    "\n",
    "The goal of both stemming and lemmatization is to reduce inflectional forms (e.g. *dreaming*, *dreamed*) and sometimes derivationally related forms of a word to a common \"base form\" (e.g. *eat*).\n",
    "\n",
    "**Stemming** *targets the stem, or the part of a word which remains stable to inflectional manipulations. E.g., \"eats\" -> \"eat\".*\n",
    "\n",
    "**Lemmatization** *targets the lemma, or the canonical dictionary key associated with the word. E.g., \"is\" -> \"be\".*"
   ]
  },
  {
   "cell_type": "markdown",
   "metadata": {},
   "source": [
    "### Stemming\n",
    "\n",
    "- Stemming in practice usually refers to a **crude heuristic** process that (usually) removes the inflectional **suffixes** of a word\n",
    "\n",
    "\n",
    "- The result of stemming **might not be an actual word**\n",
    "\n",
    "\n",
    "- Stemmers are very fast and do not require PoS information"
   ]
  },
  {
   "cell_type": "markdown",
   "metadata": {},
   "source": [
    "NLTK offers several algorithms, among which the most used are: \n",
    "\n",
    "- the [Porter](https://tartarus.org/martin/PorterStemmer/) Stemmer: the oldest algorithm (1979), it is regex-based, it is still the most used even if more computationally intensive\n",
    "\n",
    "\n",
    "- the algorithm consists of 5 phases of word reductions, applied sequentially as a cascade.\n",
    "\n",
    "\n",
    "- Example of rules in phase 1:\n",
    "\n",
    "    * SSES -> SS (*caresses -> caress*)\n",
    "    * IES -> I (*ponies -> poni*)\n",
    "    * S ->  (*cats -> cat*)\n",
    "\n",
    "\n",
    "- Example of rules in phase 5 (measuring if a token could stand by itself):\n",
    "\n",
    "    * EMENT ->  (would reduce *replacement* to *replac*, but leave *cement* as cement because \"`c`\" alone is too short)"
   ]
  },
  {
   "cell_type": "code",
   "execution_count": null,
   "metadata": {},
   "outputs": [],
   "source": [
    "nltk.PorterStemmer().stem(\"unfriendliness\")"
   ]
  },
  {
   "cell_type": "code",
   "execution_count": null,
   "metadata": {},
   "outputs": [],
   "source": [
    "nltk.PorterStemmer().stem(\"cements\")"
   ]
  },
  {
   "cell_type": "code",
   "execution_count": null,
   "metadata": {},
   "outputs": [],
   "source": [
    "nltk.PorterStemmer().stem(\"replace\")"
   ]
  },
  {
   "cell_type": "markdown",
   "metadata": {},
   "source": [
    "- the [Lancaster](http://www.comp.lancs.ac.uk/computing/research/stemming/) Stemmers: the most aggressive"
   ]
  },
  {
   "cell_type": "code",
   "execution_count": null,
   "metadata": {},
   "outputs": [],
   "source": [
    "# aggressive\n",
    "nltk.LancasterStemmer().stem(\"unfriendliness\")"
   ]
  },
  {
   "cell_type": "code",
   "execution_count": null,
   "metadata": {},
   "outputs": [],
   "source": [
    "nltk.LancasterStemmer().stem(\"cements\")"
   ]
  },
  {
   "cell_type": "code",
   "execution_count": null,
   "metadata": {},
   "outputs": [],
   "source": [
    "# sometimes works better than the Porter Stemmer\n",
    "print(nltk.PorterStemmer().stem(\"happiness\"))\n",
    "print(nltk.LancasterStemmer().stem(\"happiness\"))\n",
    "print(nltk.stem.snowball.SnowballStemmer(\"english\").stem(\"happiness\"))"
   ]
  },
  {
   "cell_type": "markdown",
   "metadata": {},
   "source": [
    "- [Snowball](http://snowballstem.org/) is a language for creating stemmers, and is available in many languages among which Dutch:"
   ]
  },
  {
   "cell_type": "code",
   "execution_count": null,
   "metadata": {},
   "outputs": [],
   "source": [
    "print(nltk.stem.snowball.SnowballStemmer.languages)"
   ]
  },
  {
   "cell_type": "markdown",
   "metadata": {},
   "source": [
    "> Wanna see a demo on how it works in dutch? Try `nltk.stem.snowball.demo()`"
   ]
  },
  {
   "cell_type": "markdown",
   "metadata": {},
   "source": [
    "As a general rule, the SnowballStemmer for English (a.k.a. Porter2), works better than the original Porter stemmer"
   ]
  },
  {
   "cell_type": "code",
   "execution_count": null,
   "metadata": {},
   "outputs": [],
   "source": [
    "print(nltk.PorterStemmer().stem(\"generously\"))\n",
    "print(nltk.stem.snowball.SnowballStemmer(\"english\").stem(\"generously\"))"
   ]
  },
  {
   "cell_type": "markdown",
   "metadata": {},
   "source": [
    "### Lemmatization\n",
    "\n",
    "Lemmatizers use a **vocabulary** and **morphological information** to apply a more articulated set of rules in order to return **actual lemmas** (a.k.a. dictionary entries)"
   ]
  },
  {
   "cell_type": "markdown",
   "metadata": {},
   "source": [
    "> Again, download any missing NLTK modules if you get a `LookupError`."
   ]
  },
  {
   "cell_type": "markdown",
   "metadata": {},
   "source": [
    "The WordNet lemmatizer removes the affixes of a token only if the resulting lemma is in WordNet\n",
    "\n",
    "- It is based on the WordNet `morphy` function"
   ]
  },
  {
   "cell_type": "code",
   "execution_count": null,
   "metadata": {},
   "outputs": [],
   "source": [
    "# Irregularities are easier to handle with a lemmatizer (if the word is in the vocabulary)\n",
    "nltk.WordNetLemmatizer().lemmatize(\"women\")"
   ]
  },
  {
   "cell_type": "code",
   "execution_count": null,
   "metadata": {},
   "outputs": [],
   "source": [
    "# But it doesn't really handle some inflected forms ...\n",
    "nltk.WordNetLemmatizer().lemmatize(\"flying\")"
   ]
  },
  {
   "cell_type": "code",
   "execution_count": null,
   "metadata": {},
   "outputs": [],
   "source": [
    "# ... but it is a PoS tagging issue, really. Let's tell it that we have the verb\n",
    "verb = nltk.WordNetLemmatizer().lemmatize(\"flying\", pos=\"v\")\n",
    "print(\"Verb\", verb)\n",
    "\n",
    "# Compare\n",
    "noun = nltk.WordNetLemmatizer().lemmatize(\"flying\", pos=\"n\")\n",
    "print(\"Noun\", noun)"
   ]
  },
  {
   "cell_type": "markdown",
   "metadata": {},
   "source": [
    "### A quick-and-dirty comparison of Stemmers and the WN Lemmatizer"
   ]
  },
  {
   "cell_type": "code",
   "execution_count": null,
   "metadata": {
    "scrolled": true
   },
   "outputs": [],
   "source": [
    "stemmers = [\n",
    "    nltk.PorterStemmer().stem, \n",
    "    nltk.stem.snowball.SnowballStemmer(\"english\").stem,\n",
    "    nltk.LancasterStemmer().stem, \n",
    "    nltk.WordNetLemmatizer().lemmatize\n",
    "]\n",
    "\n",
    "words = ['caresses', 'flies', 'flying', 'mules', 'denied', 'agreed', 'humbled', 'sized',  'meeting', 'stating', \n",
    "         'itemization', 'sensational', 'traditional', 'reference', 'colonizer', 'provision', 'cement', 'women']\n",
    "\n",
    "print(\"INPUT\", \"\\t\\t\\t\", \"Porter\", \"\\t\", \"Snowball\", \"\\t\", \"Lancaster\", \"\\t\", \"WN Lemmatizer\")\n",
    "print(\"-\" * 89)\n",
    "\n",
    "for word in sorted(words):\n",
    "    print(word, \"  \", end='')\n",
    "    for stemmer_function in stemmers:\n",
    "        print(\"\\t\\t\", stemmer_function(word), end='')\n",
    "    print()"
   ]
  },
  {
   "cell_type": "markdown",
   "metadata": {},
   "source": [
    "#### How to choose?\n",
    "\n",
    "As a rule of thumb:\n",
    "\n",
    "- if you need to work with **real words**, use a lemmatizer (PoS information helps a lot)\n",
    "\n",
    "\n",
    "- if you need **speed**, choose a stemmer\n",
    "\n",
    "\n",
    "- if want to link morphological derivations (e.g. \"dreamable\") to their bases, a stemmer can be a quick-and-dirty solution"
   ]
  },
  {
   "cell_type": "markdown",
   "metadata": {},
   "source": [
    "---"
   ]
  },
  {
   "cell_type": "markdown",
   "metadata": {
    "collapsed": true
   },
   "source": [
    "## PoS Tagging\n",
    "\n",
    "The proccess of automatically classifying words into their **lexical categories** \n",
    "\n",
    "- lexical categories are also called words classes, parts-of-speech, lexical tags..."
   ]
  },
  {
   "cell_type": "markdown",
   "metadata": {},
   "source": [
    "Lexical categories are divided into two main groups:\n",
    "\n",
    "- **open word classes** which constantly acquire new members:\n",
    "    - nouns, verbs, adjectives and adverbs\n",
    "\n",
    "\n",
    "- **closed class** when their inventory does not change over time (or much less so):\n",
    "    - e.g., pronouns, determiners, prepositions, conjunctions, auxiliary and modal verbs, numerals..."
   ]
  },
  {
   "cell_type": "markdown",
   "metadata": {},
   "source": [
    "The collection of PoS tags used for a particular task is known as a **tagset**\n",
    "\n",
    "- The most common English tagset is the [**Penn Treebank**](https://www.ling.upenn.edu/courses/Fall_2003/ling001/penn_treebank_pos.html) one, containing the following tags:"
   ]
  },
  {
   "cell_type": "code",
   "execution_count": null,
   "metadata": {},
   "outputs": [],
   "source": [
    "# You might need to do this to download the related resource\n",
    "# nltk.download('tagsets')\n",
    "# nltk.download('universal_tagset')\n",
    "# nltk.download('brown')"
   ]
  },
  {
   "cell_type": "code",
   "execution_count": null,
   "metadata": {},
   "outputs": [],
   "source": [
    "nltk.help.upenn_tagset()"
   ]
  },
  {
   "cell_type": "markdown",
   "metadata": {},
   "source": [
    "Some distinctions are quite **hard for both humans and machines** :\n",
    "\n",
    "- preposition (IN), particle (RP) or adverb (RB)?\n",
    "    - You'll never get *around*/RP to watching all those movies\n",
    "    - Let's go *around*/IN the corner\n",
    "    - It costs *around*/RB 500 bucks\n",
    "\n",
    "\n",
    "- past participle (VBN) or adjective (JJ)?\n",
    "    - What the teacher said, has *interested*/VBN the student\n",
    "    - The student was *interested*/?? in what the teacher was saying\n",
    "    - The *interested*/JJ student was listening to the teacher\n",
    "\n",
    "\n",
    "- sometimes nouns can act like adjectives (i.e. they modify nouns):\n",
    "    - *science* teacher\n",
    "    - *government road accident research* centre"
   ]
  },
  {
   "cell_type": "markdown",
   "metadata": {},
   "source": [
    "Insecure about a **specific tag**? Ask NLTK!"
   ]
  },
  {
   "cell_type": "code",
   "execution_count": null,
   "metadata": {},
   "outputs": [],
   "source": [
    "nltk.help.upenn_tagset(\"JJ\")"
   ]
  },
  {
   "cell_type": "code",
   "execution_count": null,
   "metadata": {},
   "outputs": [],
   "source": [
    "# a group of tags\n",
    "nltk.help.upenn_tagset(\"NN*\")"
   ]
  },
  {
   "cell_type": "markdown",
   "metadata": {},
   "source": [
    "**Other tagsets** are available in NLTK and they can be corpus specific. For instance, the tags used in the **Brown Corpus**:\n",
    "\n",
    "> The Brown Corpus was the first million-word electronic corpus of English, created in 1961 at Brown University. This corpus contains text from 500 sources, and the sources have been categorized by genre, such as news, editorial, and so on. 1.1 gives an example of each genre (for a complete list, see http://icame.uib.no/brown/bcm-los.html).\n",
    "\n",
    "From: https://www.nltk.org/book/ch02.html"
   ]
  },
  {
   "cell_type": "code",
   "execution_count": null,
   "metadata": {},
   "outputs": [],
   "source": [
    "# Brown corpus tagset\n",
    "nltk.help.brown_tagset(\"NN*\")"
   ]
  },
  {
   "cell_type": "markdown",
   "metadata": {},
   "source": [
    "### Using a Tagger"
   ]
  },
  {
   "cell_type": "markdown",
   "metadata": {},
   "source": [
    "The `nltk.pos_tag()` method allows you to launch the default NLTK pos tagger model on a **tokenized text** (i.e. on a list of words):"
   ]
  },
  {
   "cell_type": "code",
   "execution_count": null,
   "metadata": {},
   "outputs": [],
   "source": [
    "text = nltk.word_tokenize(\"And now for something completely different\")\n",
    "# text = nltk.word_tokenize(\"I'm going to my place.\")\n",
    "\n",
    "# Gives back a list of tuples, in which the first element is the token, and the second the PoS-tag\n",
    "print(nltk.pos_tag(text))"
   ]
  },
  {
   "cell_type": "markdown",
   "metadata": {},
   "source": [
    "PoS-tagging requires a certain amount of disambiguation:"
   ]
  },
  {
   "cell_type": "code",
   "execution_count": null,
   "metadata": {},
   "outputs": [],
   "source": [
    "# Compare the two classifications of the type \"refuse\"\n",
    "text = nltk.word_tokenize(\"They refuse to permit us to obtain the refuse permit\")\n",
    "print(nltk.pos_tag(text))"
   ]
  },
  {
   "cell_type": "markdown",
   "metadata": {},
   "source": [
    "The `nltk.pos_tag_sents()` method is recommened for efficient tagging of more than one sentence."
   ]
  },
  {
   "cell_type": "code",
   "execution_count": null,
   "metadata": {},
   "outputs": [],
   "source": [
    "tok_sents = [\n",
    "    nltk.word_tokenize(\"And now for something completely different\"),\n",
    "    nltk.word_tokenize(\"They refuse to permit us to obtain the refuse permit\")\n",
    "]\n",
    "\n",
    "print(nltk.pos_tag_sents(tok_sents))"
   ]
  },
  {
   "cell_type": "markdown",
   "metadata": {},
   "source": [
    "Other tagsets can be selected by using the `tagset` parameter. \n",
    "\n",
    "- For instance, to use the following **Universal tagset** proposed by [Petrov et al (2011)](https://arxiv.org/abs/1104.2086):\n",
    "\n",
    "|  tag  | meaning |\n",
    "|:-----:|:---------|\n",
    "| VERB | verbs (all tenses and modes) |\n",
    "| NOUN | nouns (common and proper) |\n",
    "| PRON | pronouns |\n",
    "| ADJ | adjectives |\n",
    "| ADV | adverbs |\n",
    "| ADP | adpositions (prepositions and postpositions) |\n",
    "| CONJ | conjunctions |\n",
    "| DET | determiners |\n",
    "| NUM | cardinal numbers |\n",
    "| PRT | particles or other function words |\n",
    "| X | other: foreign words, typos, abbreviations |\n",
    "| \\. | punctuation |"
   ]
  },
  {
   "cell_type": "code",
   "execution_count": null,
   "metadata": {},
   "outputs": [],
   "source": [
    "text = nltk.word_tokenize(\"They refuse to permit us to obtain the refuse permit\")\n",
    "print(nltk.pos_tag(text, tagset=\"universal\"))"
   ]
  },
  {
   "cell_type": "markdown",
   "metadata": {},
   "source": [
    "#### Available Taggers\n",
    "\n",
    "The default pos tagger model used by NLTK is the [Perceptron](https://github.com/sloria/textblob-aptagger) tagger. "
   ]
  },
  {
   "cell_type": "markdown",
   "metadata": {},
   "source": [
    "NLTK provides other pos taggers among which:\n",
    "\n",
    "- the [TnT](http://www.coli.uni-saarland.de/~thorsten/tnt/) tagger: `nltk.tag.tnt.TnT()`\n",
    "\n",
    "\n",
    "- the [CRF](http://www.nltk.org/_modules/nltk/tag/crf.html) tagger: `nltk.tag.CRFTagger()`\n",
    "\n",
    "\n",
    "- various simple [N-gram](http://www.nltk.org/book/ch05.html#general-n-gram-tagging) taggers:  `nltk.tag.UnigramTagger()`, `nltk.tag.BigramTagger()`, `nltk.tag.TrigramTagger()` \n",
    "\n",
    "\n",
    "- a [regex-based](http://www.nltk.org/book/ch05.html#the-regular-expression-tagger) tagger `nltk.tag.sequential.RegexpTagger()`\n",
    "\n",
    "\n",
    "- a tagger that assign always the same tag ot each token: `nltk.tag.DefaultTagger()`, that can be used as a [backoff](http://www.nltk.org/book/ch05.html#combining-taggers) strategy"
   ]
  },
  {
   "cell_type": "markdown",
   "metadata": {
    "collapsed": true
   },
   "source": [
    "### Using the Stanford PoS Tagger"
   ]
  },
  {
   "cell_type": "markdown",
   "metadata": {
    "collapsed": true
   },
   "source": [
    "NLTK provides interfaces to three tools of the Stanford CoreNLP suite:\n",
    "\n",
    "- the Stanford Log-linear Part-Of-Speech Tagger\n",
    "\n",
    "\n",
    "- the Stanford Parser \n",
    "\n",
    "\n",
    "- the Stanford Named Entity Recognizer (NER)"
   ]
  },
  {
   "cell_type": "markdown",
   "metadata": {
    "collapsed": true
   },
   "source": [
    "The Stanford POS Tagger can be download from the [download section](https://nlp.stanford.edu/software/tagger.html#Download) of the official site. Two versions are available:\n",
    "\n",
    "\n",
    "- the basic English Stanford Tagger [25 MB]\n",
    "\n",
    "\n",
    "- the full Stanford Tagger [129 MB]\n",
    "\n",
    "Both versions contain a lot of pos tagger models, you can find more infos in `models/README-Models.txt`"
   ]
  },
  {
   "cell_type": "markdown",
   "metadata": {},
   "source": [
    "### Using the Stanford POS Tagger with the nltk.tag.stanford module"
   ]
  },
  {
   "cell_type": "markdown",
   "metadata": {},
   "source": [
    "Download one of the two Stanford packages above (the basic 25 MB one will do for now). Extract to your notebook working directory, and create an instance of `StanfordPOSTagger` with path arguments to a language model (here: 'english-bidirectional-distsim.tagger') and the Stanford tagger jar file (here: 'stanford-postagger-3.9.1.jar'). Using the `tag` method, we can now apply POS tags to a (split) string."
   ]
  },
  {
   "cell_type": "markdown",
   "metadata": {
    "scrolled": true
   },
   "source": [
    "```Python\n",
    "from nltk.tag import StanfordPOSTagger\n",
    "\n",
    "st = StanfordPOSTagger(\n",
    "    './stanford-postagger-2018-02-27/models/english-bidirectional-distsim.tagger',\n",
    "    path_to_jar='./stanford-postagger-2018-02-27/stanford-postagger-3.9.1.jar'\n",
    ")\n",
    "\n",
    "st.tag('What is the airspeed of an unladen swallow ?'.split())\n",
    "```"
   ]
  },
  {
   "cell_type": "markdown",
   "metadata": {},
   "source": [
    "> **Suggested Readings**\n",
    ">\n",
    ">A nice tutorial on how NLTK taggers can be evaluated is available on [Natemccoy's Blog](https://natemccoy.github.io/2016/10/27/evaluatingnltktaggerstutorial.html)"
   ]
  },
  {
   "cell_type": "markdown",
   "metadata": {},
   "source": [
    "### Tagged Corpora\n",
    "\n",
    "Several of the corpora included with NLTK have been tagged for their part-of-speech. \n",
    "\n",
    "Whenever a corpus contains tagged text, the NLTK corpus interface will have a `tagged_words()` method that will print `(token, tag)` tuples:"
   ]
  },
  {
   "cell_type": "code",
   "execution_count": null,
   "metadata": {},
   "outputs": [],
   "source": [
    "print(nltk.corpus.treebank.tagged_words()[:10])"
   ]
  },
  {
   "cell_type": "markdown",
   "metadata": {},
   "source": [
    "A related method is `tagged_sents()`, that will retain the sentence structure of the text:"
   ]
  },
  {
   "cell_type": "code",
   "execution_count": null,
   "metadata": {},
   "outputs": [],
   "source": [
    "print(nltk.corpus.treebank.tagged_sents()[:3])"
   ]
  },
  {
   "cell_type": "markdown",
   "metadata": {},
   "source": [
    "Not all corpora employ the same tagset:"
   ]
  },
  {
   "cell_type": "code",
   "execution_count": null,
   "metadata": {},
   "outputs": [],
   "source": [
    "print(nltk.corpus.brown.tagged_words()[:68])"
   ]
  },
  {
   "cell_type": "markdown",
   "metadata": {},
   "source": [
    "Things can be made comparable by using the built-in [mapping](https://github.com/slavpetrov/universal-pos-tags) to the Universal Tagset"
   ]
  },
  {
   "cell_type": "code",
   "execution_count": null,
   "metadata": {},
   "outputs": [],
   "source": [
    "print(nltk.corpus.brown.tagged_words(tagset='universal')[:68])"
   ]
  },
  {
   "cell_type": "code",
   "execution_count": null,
   "metadata": {},
   "outputs": [],
   "source": [
    "print(nltk.corpus.treebank.tagged_words(tagset='universal')[:58])"
   ]
  },
  {
   "cell_type": "markdown",
   "metadata": {},
   "source": [
    "### Exploring Tagged  Corpora"
   ]
  },
  {
   "cell_type": "markdown",
   "metadata": {},
   "source": [
    "##### 1. Let's find the most frequent nouns of each noun part-of-speech type"
   ]
  },
  {
   "cell_type": "code",
   "execution_count": null,
   "metadata": {},
   "outputs": [],
   "source": [
    "?nltk.ConditionalFreqDist"
   ]
  },
  {
   "cell_type": "code",
   "execution_count": null,
   "metadata": {},
   "outputs": [],
   "source": [
    "def find_tags(tag_prefix, tagged_text):\n",
    "    \n",
    "    # Generator comprehension (cf. list comprehension)\n",
    "    taglist = ((tag, word) for (word, tag) in tagged_text if tag.startswith(tag_prefix))\n",
    "    \n",
    "    cfd = nltk.ConditionalFreqDist(taglist)\n",
    "    \n",
    "    tagdict = dict((tag, cfd[tag].most_common(5)) for tag in cfd.conditions())\n",
    "    \n",
    "    return tagdict\n",
    "\n",
    "\n",
    "tagdict = find_tags('NN', nltk.corpus.brown.tagged_words(categories='news'))\n",
    "\n",
    "for tag in sorted(tagdict):\n",
    "    print(tag, tagdict[tag])"
   ]
  },
  {
   "cell_type": "markdown",
   "metadata": {},
   "source": [
    "##### 2. Suppose we're studying the word \"`often`\" and want to look at the part-of-speech tag of the following words:"
   ]
  },
  {
   "cell_type": "code",
   "execution_count": null,
   "metadata": {},
   "outputs": [],
   "source": [
    "brown_lrnd_tagged = nltk.corpus.brown.tagged_words(categories='learned', tagset='universal')\n",
    "\n",
    "tags = [b[1] for (a, b) in nltk.bigrams(brown_lrnd_tagged) if a[0] == 'often']\n",
    "\n",
    "nltk.FreqDist(tags).tabulate()"
   ]
  },
  {
   "cell_type": "markdown",
   "metadata": {},
   "source": [
    "---"
   ]
  },
  {
   "cell_type": "markdown",
   "metadata": {},
   "source": [
    ">### Exercises\n",
    "> \n",
    "> \n",
    "> \n",
    "> \n",
    "> \n",
    ">\n",
    "> - Use the word frequencies in the Brown corpus to:\n",
    ">\n",
    ">   - print the top 50 most frequent unigrams and bigrams (together with their frequencies). A bigram is a group of two subsequent words, e.g., \"this is good\": \"this is\", \"is good\". Check the `nltk.bigrams()` function\n",
    ">   - plot them too\n",
    ">\n",
    ">\n",
    "> - Lemmatize the Brown corpus and use the lemma frequencies to plot the 50 most frequent unigrams and bigrams. So, the same analysis as in the previous exercise, but with lemma frequencies this time."
   ]
  },
  {
   "cell_type": "markdown",
   "metadata": {},
   "source": [
    "---"
   ]
  }
 ],
 "metadata": {
  "kernelspec": {
   "display_name": "Python 3",
   "language": "python",
   "name": "python3"
  },
  "language_info": {
   "codemirror_mode": {
    "name": "ipython",
    "version": 3
   },
   "file_extension": ".py",
   "mimetype": "text/x-python",
   "name": "python",
   "nbconvert_exporter": "python",
   "pygments_lexer": "ipython3",
   "version": "3.8.3"
  }
 },
 "nbformat": 4,
 "nbformat_minor": 2
}
