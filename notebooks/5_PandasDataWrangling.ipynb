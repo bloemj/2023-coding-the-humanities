{
 "cells": [
  {
   "cell_type": "markdown",
   "metadata": {
    "id": "13zUoDymWjoj"
   },
   "source": [
    "# Data Wrangling"
   ]
  },
  {
   "cell_type": "markdown",
   "metadata": {
    "id": "P-GOTpNaWjok",
    "tags": []
   },
   "source": [
    "## Contents:\n",
    "\n",
    "* Pandas: spreadsheets/tables in Python\n",
    "* Reading/writing CSV files (for spreadsheets/tables)"
   ]
  },
  {
   "cell_type": "markdown",
   "metadata": {
    "id": "ZdYs70QQWjot"
   },
   "source": [
    "---"
   ]
  },
  {
   "cell_type": "markdown",
   "metadata": {},
   "source": [
    "# Working with structured data such as tables"
   ]
  },
  {
   "cell_type": "markdown",
   "metadata": {
    "id": "LGYY8E4NLl3L"
   },
   "source": [
    "We now know how we can read and write textual content to files on our file system. Two more structed and common data formats to store data in are JSON and CSV. If you are not familiar with these, take a look at:\n",
    "\n",
    "* JSON (https://www.w3schools.com/whatis/whatis_json.asp)\n",
    "* CSV (https://www.howtogeek.com/348960/what-is-a-csv-file-and-how-do-i-open-it/)\n",
    "\n",
    "We will mainly work with CSV here. If you want to know about JSON, you can find that information in the supplementary materials notebook."
   ]
  },
  {
   "cell_type": "markdown",
   "metadata": {
    "id": "-gWLRatDWjot"
   },
   "source": [
    "# Data wrangling with Pandas"
   ]
  },
  {
   "cell_type": "markdown",
   "metadata": {
    "id": "0DIIgvmlWjot"
   },
   "source": [
    "## CSV (in Pandas)\n",
    "\n",
    "The most often used file type for structured data is CSV (Comma Separated Values), or variants, such as TSV (Tab Separated Values). Python includes another built-in module to deal with these files: the `csv` module. But, we will be using the `Pandas` module, the go-to package for data analysis, that you already imported and updated in Notebook 0. \n",
    "\n",
    "A CSV file is similar to an Excel or Google Docs spreadsheet, but more limited in markup and functionality (e.g. you cannot store Excel functions). It is just a text file in which individual entries correspond to lines, and columns are separated by a comma. You can always open a CSV file with a text editor, and this also makes it so easy to store and share data with.\n",
    "\n",
    "For the rest of the notebook we will see how to work with the two main data types in `pandas`: the `DataFrame` and a `Series`.\n",
    "\n",
    "Information on functions and modules of Pandas cannot be found in the Python manual online, as it is an external package. Instead, you can refer to https://pandas.pydata.org/pandas-docs/stable/index.html ."
   ]
  },
  {
   "cell_type": "markdown",
   "metadata": {
    "id": "rfESw9J_Wjou"
   },
   "source": [
    "### `DataFrame`\n",
    "\n",
    "\n",
    "What is a `pandas.DataFrame`? \n",
    "\n",
    "A `DataFrame` is a collection of `Series` having the same length and whose indexes are in sync. A *collection* means that each column of a dataframe is a series. You can also see it as a spreadheet in memory, that also allows for inclusion of Python objects."
   ]
  },
  {
   "cell_type": "markdown",
   "metadata": {
    "id": "6OAUHYSaWjou"
   },
   "source": [
    "We first have to import the package. It's a convention to do this like so with Pandas, which makes the elements from this package (classes, functions, methods) available under its abbreviation `pd`:"
   ]
  },
  {
   "cell_type": "code",
   "execution_count": 2,
   "metadata": {
    "id": "N8fYArBwWjou"
   },
   "outputs": [],
   "source": [
    "import pandas as pd"
   ]
  },
  {
   "cell_type": "markdown",
   "metadata": {
    "id": "nkT3_k-KWjov"
   },
   "source": [
    "Next is loading the data. The following data comes from Wikipedia and was [automatically](https://query.wikidata.org/#%0ASELECT%20DISTINCT%20%3FmovieLabel%20%3Fimdb%20%28MIN%28%3FpublicationYear%29%20as%20%3Fyear%29%20%28year%28%3Fdate%29%20as%20%3Faward_year%29%20%28group_concat%28DISTINCT%20%3FdirectorLabel%3Bseparator%3D%22%2C%20%22%29%20as%20%3Fdirectors%20%29%20%28group_concat%28DISTINCT%20%3FcompanyLabel%3Bseparator%3D%22%2C%20%22%29%20as%20%3Fcompanies%29%20%3Fmale_cast%20%3Ffemale_cast%20WHERE%20%7B%0A%20%20%0A%20%20%7B%0A%20%20%3Fmovie%20p%3AP166%20%3Fawardstatement%20%3B%0A%20%20%20%20%20%20%20%20%20wdt%3AP345%20%3Fimdb%20%3B%0A%20%20%20%20%20%20%20%20%20wdt%3AP577%20%3Fpublication%20%3B%0A%20%20%20%20%20%20%20%20%20wdt%3AP57%20%3Fdirector%20%3B%0A%20%20%20%20%20%20%20%20%20wdt%3AP272%20%3Fcompany%20%3B%0A%20%20%20%20%20%20%20%20%20wdt%3AP31%20wd%3AQ11424%20.%0A%20%20%0A%20%20%3Fawardstatement%20ps%3AP166%20wd%3AQ102427%20%3B%20%0A%20%20%20%20%20%20%20%20%20%20%20%20%20%20%20%20%20%20pq%3AP585%20%3Fdate%20.%0A%20%20%7D%0A%20%20%0A%20%20BIND%28year%28%3Fpublication%29%20as%20%3FpublicationYear%29%0A%20%20%0A%20%20%7B%0A%20%20%20%20%20SELECT%20%3Fmovie%20%28COUNT%28%3Fcast_member%29%20AS%20%3Fmale_cast%29%20WHERE%20%7B%0A%20%20%20%20%20%20%3Fmovie%20wdt%3AP161%20%3Fcast_member%20.%0A%20%20%20%20%20%20%3Fcast_member%20wdt%3AP21%20wd%3AQ6581097%20.%0A%20%20%20%20%7D%20GROUP%20BY%20%3Fmovie%0A%7D%20%7B%0A%20%20%20%20SELECT%20%3Fmovie%20%28COUNT%28%3Fcast_member%29%20AS%20%3Ffemale_cast%29%20WHERE%20%7B%0A%20%20%20%20%20%20%3Fmovie%20wdt%3AP161%20%3Fcast_member%20.%0A%20%20%20%20%20%20%3Fcast_member%20wdt%3AP21%20wd%3AQ6581072%20.%0A%20%20%20%20%7D%20GROUP%20BY%20%3Fmovie%0A%20%20%7D%0A%20%20%0A%20%20SERVICE%20wikibase%3Alabel%20%7B%20%0A%20%20%20%20bd%3AserviceParam%20wikibase%3Alanguage%20%22en%22%20.%0A%20%20%20%20%3Fmovie%20rdfs%3Alabel%20%3FmovieLabel%20.%0A%20%20%20%20%3Fdirector%20rdfs%3Alabel%20%3FdirectorLabel%20.%0A%20%20%20%20%3Fcompany%20rdfs%3Alabel%20%3FcompanyLabel%20.%20%0A%20%20%7D%0A%7D%20%0A%0AGROUP%20BY%20%3FmovieLabel%20%3Fimdb%20%3Fdate%20%3Fmale_cast%20%3Ffemale_cast%0AORDER%20BY%20%3Fyear%20) retreived. It is an overview of all movies that have won an Academy Award for Best Picture, including some extra data for the movie: a link to the IMDB, the publication and award year, the director(s), production company and the number of male and female actors in the cast. It can be that this data is incorrect, because this information is not entered in Wikipedia. \n",
    "\n",
    "You can find this file in `data/academyawards.csv`. Download it from the repository and save it in the data folder if you don't have it. "
   ]
  },
  {
   "cell_type": "markdown",
   "metadata": {
    "id": "TYq-OoIiWjov"
   },
   "source": [
    "Reading in a csv with pandas is easy. We call the `pd.read_csv()` function with the file path as argument. Pandas takes care of opening and closing the file, so a `with` statement is not needed. The contents of the csv file are then read in a Pandas DataFrame object. We can store this in the variable `df`. \n",
    "\n",
    "Calling this variable in a Jupyter Notebook gives back a nicely formatted table with the first and last 5 rows of the file. "
   ]
  },
  {
   "cell_type": "code",
   "execution_count": 3,
   "metadata": {
    "id": "UmPotvtEWjov"
   },
   "outputs": [
    {
     "data": {
      "text/html": [
       "<div>\n",
       "<style scoped>\n",
       "    .dataframe tbody tr th:only-of-type {\n",
       "        vertical-align: middle;\n",
       "    }\n",
       "\n",
       "    .dataframe tbody tr th {\n",
       "        vertical-align: top;\n",
       "    }\n",
       "\n",
       "    .dataframe thead th {\n",
       "        text-align: right;\n",
       "    }\n",
       "</style>\n",
       "<table border=\"1\" class=\"dataframe\">\n",
       "  <thead>\n",
       "    <tr style=\"text-align: right;\">\n",
       "      <th></th>\n",
       "      <th>movie</th>\n",
       "      <th>imdb</th>\n",
       "      <th>year</th>\n",
       "      <th>award_year</th>\n",
       "      <th>directors</th>\n",
       "      <th>companies</th>\n",
       "      <th>male_cast</th>\n",
       "      <th>female_cast</th>\n",
       "    </tr>\n",
       "  </thead>\n",
       "  <tbody>\n",
       "    <tr>\n",
       "      <th>0</th>\n",
       "      <td>Wings</td>\n",
       "      <td>tt0018578</td>\n",
       "      <td>1927</td>\n",
       "      <td>1929</td>\n",
       "      <td>William A. Wellman, Harry d’Abbadie d’Arrast</td>\n",
       "      <td>Paramount Pictures</td>\n",
       "      <td>12</td>\n",
       "      <td>5</td>\n",
       "    </tr>\n",
       "    <tr>\n",
       "      <th>1</th>\n",
       "      <td>The Broadway Melody</td>\n",
       "      <td>tt0019729</td>\n",
       "      <td>1929</td>\n",
       "      <td>1930</td>\n",
       "      <td>Harry Beaumont</td>\n",
       "      <td>Metro-Goldwyn-Mayer</td>\n",
       "      <td>4</td>\n",
       "      <td>3</td>\n",
       "    </tr>\n",
       "    <tr>\n",
       "      <th>2</th>\n",
       "      <td>All Quiet on the Western Front</td>\n",
       "      <td>tt0020629</td>\n",
       "      <td>1930</td>\n",
       "      <td>1930</td>\n",
       "      <td>Lewis Milestone, Nate Watt</td>\n",
       "      <td>Universal Pictures</td>\n",
       "      <td>22</td>\n",
       "      <td>6</td>\n",
       "    </tr>\n",
       "    <tr>\n",
       "      <th>3</th>\n",
       "      <td>Cimarron</td>\n",
       "      <td>tt0021746</td>\n",
       "      <td>1931</td>\n",
       "      <td>1931</td>\n",
       "      <td>Wesley Ruggles</td>\n",
       "      <td>RKO Pictures</td>\n",
       "      <td>13</td>\n",
       "      <td>6</td>\n",
       "    </tr>\n",
       "    <tr>\n",
       "      <th>4</th>\n",
       "      <td>Grand Hotel</td>\n",
       "      <td>tt0022958</td>\n",
       "      <td>1932</td>\n",
       "      <td>1932</td>\n",
       "      <td>Edmund Goulding</td>\n",
       "      <td>Metro-Goldwyn-Mayer</td>\n",
       "      <td>19</td>\n",
       "      <td>8</td>\n",
       "    </tr>\n",
       "    <tr>\n",
       "      <th>...</th>\n",
       "      <td>...</td>\n",
       "      <td>...</td>\n",
       "      <td>...</td>\n",
       "      <td>...</td>\n",
       "      <td>...</td>\n",
       "      <td>...</td>\n",
       "      <td>...</td>\n",
       "      <td>...</td>\n",
       "    </tr>\n",
       "    <tr>\n",
       "      <th>80</th>\n",
       "      <td>Spotlight</td>\n",
       "      <td>tt1895587</td>\n",
       "      <td>2015</td>\n",
       "      <td>2016</td>\n",
       "      <td>Tom McCarthy</td>\n",
       "      <td>Anonymous Content, Participant</td>\n",
       "      <td>15</td>\n",
       "      <td>2</td>\n",
       "    </tr>\n",
       "    <tr>\n",
       "      <th>81</th>\n",
       "      <td>Moonlight</td>\n",
       "      <td>tt4975722</td>\n",
       "      <td>2016</td>\n",
       "      <td>2017</td>\n",
       "      <td>Barry Jenkins</td>\n",
       "      <td>Plan B Entertainment, A24</td>\n",
       "      <td>6</td>\n",
       "      <td>2</td>\n",
       "    </tr>\n",
       "    <tr>\n",
       "      <th>82</th>\n",
       "      <td>The Shape of Water</td>\n",
       "      <td>tt5580390</td>\n",
       "      <td>2017</td>\n",
       "      <td>2018</td>\n",
       "      <td>Guillermo del Toro</td>\n",
       "      <td>Searchlight Pictures, TSG Entertainment</td>\n",
       "      <td>8</td>\n",
       "      <td>3</td>\n",
       "    </tr>\n",
       "    <tr>\n",
       "      <th>83</th>\n",
       "      <td>Green Book</td>\n",
       "      <td>tt6966692</td>\n",
       "      <td>2018</td>\n",
       "      <td>2019</td>\n",
       "      <td>Peter Farrelly</td>\n",
       "      <td>Universal Pictures, DreamWorks, Participant, A...</td>\n",
       "      <td>7</td>\n",
       "      <td>1</td>\n",
       "    </tr>\n",
       "    <tr>\n",
       "      <th>84</th>\n",
       "      <td>Parasite</td>\n",
       "      <td>tt6751668</td>\n",
       "      <td>2019</td>\n",
       "      <td>2020</td>\n",
       "      <td>Bong Joon-ho</td>\n",
       "      <td>CJ Entertainment, Barunson E&amp;A</td>\n",
       "      <td>5</td>\n",
       "      <td>5</td>\n",
       "    </tr>\n",
       "  </tbody>\n",
       "</table>\n",
       "<p>85 rows × 8 columns</p>\n",
       "</div>"
      ],
      "text/plain": [
       "                             movie       imdb  year  award_year  \\\n",
       "0                            Wings  tt0018578  1927        1929   \n",
       "1              The Broadway Melody  tt0019729  1929        1930   \n",
       "2   All Quiet on the Western Front  tt0020629  1930        1930   \n",
       "3                         Cimarron  tt0021746  1931        1931   \n",
       "4                      Grand Hotel  tt0022958  1932        1932   \n",
       "..                             ...        ...   ...         ...   \n",
       "80                       Spotlight  tt1895587  2015        2016   \n",
       "81                       Moonlight  tt4975722  2016        2017   \n",
       "82              The Shape of Water  tt5580390  2017        2018   \n",
       "83                      Green Book  tt6966692  2018        2019   \n",
       "84                        Parasite  tt6751668  2019        2020   \n",
       "\n",
       "                                       directors  \\\n",
       "0   William A. Wellman, Harry d’Abbadie d’Arrast   \n",
       "1                                 Harry Beaumont   \n",
       "2                     Lewis Milestone, Nate Watt   \n",
       "3                                 Wesley Ruggles   \n",
       "4                                Edmund Goulding   \n",
       "..                                           ...   \n",
       "80                                  Tom McCarthy   \n",
       "81                                 Barry Jenkins   \n",
       "82                            Guillermo del Toro   \n",
       "83                                Peter Farrelly   \n",
       "84                                  Bong Joon-ho   \n",
       "\n",
       "                                            companies  male_cast  female_cast  \n",
       "0                                  Paramount Pictures         12            5  \n",
       "1                                 Metro-Goldwyn-Mayer          4            3  \n",
       "2                                  Universal Pictures         22            6  \n",
       "3                                        RKO Pictures         13            6  \n",
       "4                                 Metro-Goldwyn-Mayer         19            8  \n",
       "..                                                ...        ...          ...  \n",
       "80                     Anonymous Content, Participant         15            2  \n",
       "81                          Plan B Entertainment, A24          6            2  \n",
       "82            Searchlight Pictures, TSG Entertainment          8            3  \n",
       "83  Universal Pictures, DreamWorks, Participant, A...          7            1  \n",
       "84                     CJ Entertainment, Barunson E&A          5            5  \n",
       "\n",
       "[85 rows x 8 columns]"
      ]
     },
     "execution_count": 3,
     "metadata": {},
     "output_type": "execute_result"
    }
   ],
   "source": [
    "df = pd.read_csv('data/academyawards.csv', encoding='utf-8')\n",
    "df"
   ]
  },
  {
   "cell_type": "markdown",
   "metadata": {
    "id": "-HYWyDLjWjov"
   },
   "source": [
    "Think of a `DataFrame` as an in-memory spreadsheet that you can analyse and manipulate programmatically. Or, think of it as a table in which every line is a data entry, and every column holds specific information on this data.\n",
    "\n",
    "These columns can also be seen as lists of values. They are ordered and the index of an element corresponds with the index of the data entry. The collection of all such columns is what makes the DataFrame. One column in a table is represented by a Pandas `Series`, which collects observations about a given variable. Multiple columns are a `DataFrame`. A DataFrame therefore is a collection of lists (=columns), or `Series`.\n",
    "\n",
    "If you look for other methods on `pd` you can call, you'll also see that there is an `pd.read_excel()` option to read spreadsheets in `.xls` or `.xlsx`. You can also  use this, if you have these kind of files."
   ]
  },
  {
   "cell_type": "markdown",
   "metadata": {
    "id": "VYFYCw1IWjow"
   },
   "source": [
    "### Statistics\n",
    "Now that we loaded our DataFrame, we can make pandas print some statistics on the file. "
   ]
  },
  {
   "cell_type": "code",
   "execution_count": 4,
   "metadata": {
    "id": "3L5rU-RMWjow"
   },
   "outputs": [
    {
     "data": {
      "text/html": [
       "<div>\n",
       "<style scoped>\n",
       "    .dataframe tbody tr th:only-of-type {\n",
       "        vertical-align: middle;\n",
       "    }\n",
       "\n",
       "    .dataframe tbody tr th {\n",
       "        vertical-align: top;\n",
       "    }\n",
       "\n",
       "    .dataframe thead th {\n",
       "        text-align: right;\n",
       "    }\n",
       "</style>\n",
       "<table border=\"1\" class=\"dataframe\">\n",
       "  <thead>\n",
       "    <tr style=\"text-align: right;\">\n",
       "      <th></th>\n",
       "      <th>movie</th>\n",
       "      <th>imdb</th>\n",
       "      <th>year</th>\n",
       "      <th>award_year</th>\n",
       "      <th>directors</th>\n",
       "      <th>companies</th>\n",
       "      <th>male_cast</th>\n",
       "      <th>female_cast</th>\n",
       "    </tr>\n",
       "  </thead>\n",
       "  <tbody>\n",
       "    <tr>\n",
       "      <th>0</th>\n",
       "      <td>Wings</td>\n",
       "      <td>tt0018578</td>\n",
       "      <td>1927</td>\n",
       "      <td>1929</td>\n",
       "      <td>William A. Wellman, Harry d’Abbadie d’Arrast</td>\n",
       "      <td>Paramount Pictures</td>\n",
       "      <td>12</td>\n",
       "      <td>5</td>\n",
       "    </tr>\n",
       "    <tr>\n",
       "      <th>1</th>\n",
       "      <td>The Broadway Melody</td>\n",
       "      <td>tt0019729</td>\n",
       "      <td>1929</td>\n",
       "      <td>1930</td>\n",
       "      <td>Harry Beaumont</td>\n",
       "      <td>Metro-Goldwyn-Mayer</td>\n",
       "      <td>4</td>\n",
       "      <td>3</td>\n",
       "    </tr>\n",
       "    <tr>\n",
       "      <th>2</th>\n",
       "      <td>All Quiet on the Western Front</td>\n",
       "      <td>tt0020629</td>\n",
       "      <td>1930</td>\n",
       "      <td>1930</td>\n",
       "      <td>Lewis Milestone, Nate Watt</td>\n",
       "      <td>Universal Pictures</td>\n",
       "      <td>22</td>\n",
       "      <td>6</td>\n",
       "    </tr>\n",
       "    <tr>\n",
       "      <th>3</th>\n",
       "      <td>Cimarron</td>\n",
       "      <td>tt0021746</td>\n",
       "      <td>1931</td>\n",
       "      <td>1931</td>\n",
       "      <td>Wesley Ruggles</td>\n",
       "      <td>RKO Pictures</td>\n",
       "      <td>13</td>\n",
       "      <td>6</td>\n",
       "    </tr>\n",
       "    <tr>\n",
       "      <th>4</th>\n",
       "      <td>Grand Hotel</td>\n",
       "      <td>tt0022958</td>\n",
       "      <td>1932</td>\n",
       "      <td>1932</td>\n",
       "      <td>Edmund Goulding</td>\n",
       "      <td>Metro-Goldwyn-Mayer</td>\n",
       "      <td>19</td>\n",
       "      <td>8</td>\n",
       "    </tr>\n",
       "  </tbody>\n",
       "</table>\n",
       "</div>"
      ],
      "text/plain": [
       "                            movie       imdb  year  award_year  \\\n",
       "0                           Wings  tt0018578  1927        1929   \n",
       "1             The Broadway Melody  tt0019729  1929        1930   \n",
       "2  All Quiet on the Western Front  tt0020629  1930        1930   \n",
       "3                        Cimarron  tt0021746  1931        1931   \n",
       "4                     Grand Hotel  tt0022958  1932        1932   \n",
       "\n",
       "                                      directors            companies  \\\n",
       "0  William A. Wellman, Harry d’Abbadie d’Arrast   Paramount Pictures   \n",
       "1                                Harry Beaumont  Metro-Goldwyn-Mayer   \n",
       "2                    Lewis Milestone, Nate Watt   Universal Pictures   \n",
       "3                                Wesley Ruggles         RKO Pictures   \n",
       "4                               Edmund Goulding  Metro-Goldwyn-Mayer   \n",
       "\n",
       "   male_cast  female_cast  \n",
       "0         12            5  \n",
       "1          4            3  \n",
       "2         22            6  \n",
       "3         13            6  \n",
       "4         19            8  "
      ]
     },
     "execution_count": 4,
     "metadata": {},
     "output_type": "execute_result"
    }
   ],
   "source": [
    "df.head()  # First 5 rows"
   ]
  },
  {
   "cell_type": "code",
   "execution_count": 6,
   "metadata": {
    "id": "rGg7zsP9Wjow"
   },
   "outputs": [
    {
     "data": {
      "text/html": [
       "<div>\n",
       "<style scoped>\n",
       "    .dataframe tbody tr th:only-of-type {\n",
       "        vertical-align: middle;\n",
       "    }\n",
       "\n",
       "    .dataframe tbody tr th {\n",
       "        vertical-align: top;\n",
       "    }\n",
       "\n",
       "    .dataframe thead th {\n",
       "        text-align: right;\n",
       "    }\n",
       "</style>\n",
       "<table border=\"1\" class=\"dataframe\">\n",
       "  <thead>\n",
       "    <tr style=\"text-align: right;\">\n",
       "      <th></th>\n",
       "      <th>movie</th>\n",
       "      <th>imdb</th>\n",
       "      <th>year</th>\n",
       "      <th>award_year</th>\n",
       "      <th>directors</th>\n",
       "      <th>companies</th>\n",
       "      <th>male_cast</th>\n",
       "      <th>female_cast</th>\n",
       "    </tr>\n",
       "  </thead>\n",
       "  <tbody>\n",
       "    <tr>\n",
       "      <th>80</th>\n",
       "      <td>Spotlight</td>\n",
       "      <td>tt1895587</td>\n",
       "      <td>2015</td>\n",
       "      <td>2016</td>\n",
       "      <td>Tom McCarthy</td>\n",
       "      <td>Anonymous Content, Participant</td>\n",
       "      <td>15</td>\n",
       "      <td>2</td>\n",
       "    </tr>\n",
       "    <tr>\n",
       "      <th>81</th>\n",
       "      <td>Moonlight</td>\n",
       "      <td>tt4975722</td>\n",
       "      <td>2016</td>\n",
       "      <td>2017</td>\n",
       "      <td>Barry Jenkins</td>\n",
       "      <td>Plan B Entertainment, A24</td>\n",
       "      <td>6</td>\n",
       "      <td>2</td>\n",
       "    </tr>\n",
       "    <tr>\n",
       "      <th>82</th>\n",
       "      <td>The Shape of Water</td>\n",
       "      <td>tt5580390</td>\n",
       "      <td>2017</td>\n",
       "      <td>2018</td>\n",
       "      <td>Guillermo del Toro</td>\n",
       "      <td>Searchlight Pictures, TSG Entertainment</td>\n",
       "      <td>8</td>\n",
       "      <td>3</td>\n",
       "    </tr>\n",
       "    <tr>\n",
       "      <th>83</th>\n",
       "      <td>Green Book</td>\n",
       "      <td>tt6966692</td>\n",
       "      <td>2018</td>\n",
       "      <td>2019</td>\n",
       "      <td>Peter Farrelly</td>\n",
       "      <td>Universal Pictures, DreamWorks, Participant, A...</td>\n",
       "      <td>7</td>\n",
       "      <td>1</td>\n",
       "    </tr>\n",
       "    <tr>\n",
       "      <th>84</th>\n",
       "      <td>Parasite</td>\n",
       "      <td>tt6751668</td>\n",
       "      <td>2019</td>\n",
       "      <td>2020</td>\n",
       "      <td>Bong Joon-ho</td>\n",
       "      <td>CJ Entertainment, Barunson E&amp;A</td>\n",
       "      <td>5</td>\n",
       "      <td>5</td>\n",
       "    </tr>\n",
       "  </tbody>\n",
       "</table>\n",
       "</div>"
      ],
      "text/plain": [
       "                 movie       imdb  year  award_year           directors  \\\n",
       "80           Spotlight  tt1895587  2015        2016        Tom McCarthy   \n",
       "81           Moonlight  tt4975722  2016        2017       Barry Jenkins   \n",
       "82  The Shape of Water  tt5580390  2017        2018  Guillermo del Toro   \n",
       "83          Green Book  tt6966692  2018        2019      Peter Farrelly   \n",
       "84            Parasite  tt6751668  2019        2020        Bong Joon-ho   \n",
       "\n",
       "                                            companies  male_cast  female_cast  \n",
       "80                     Anonymous Content, Participant         15            2  \n",
       "81                          Plan B Entertainment, A24          6            2  \n",
       "82            Searchlight Pictures, TSG Entertainment          8            3  \n",
       "83  Universal Pictures, DreamWorks, Participant, A...          7            1  \n",
       "84                     CJ Entertainment, Barunson E&A          5            5  "
      ]
     },
     "execution_count": 6,
     "metadata": {},
     "output_type": "execute_result"
    }
   ],
   "source": [
    "df.tail()  # Last 5 rows"
   ]
  },
  {
   "cell_type": "code",
   "execution_count": 5,
   "metadata": {
    "id": "8DuLyUR9Wjow"
   },
   "outputs": [
    {
     "data": {
      "text/html": [
       "<div>\n",
       "<style scoped>\n",
       "    .dataframe tbody tr th:only-of-type {\n",
       "        vertical-align: middle;\n",
       "    }\n",
       "\n",
       "    .dataframe tbody tr th {\n",
       "        vertical-align: top;\n",
       "    }\n",
       "\n",
       "    .dataframe thead th {\n",
       "        text-align: right;\n",
       "    }\n",
       "</style>\n",
       "<table border=\"1\" class=\"dataframe\">\n",
       "  <thead>\n",
       "    <tr style=\"text-align: right;\">\n",
       "      <th></th>\n",
       "      <th>year</th>\n",
       "      <th>award_year</th>\n",
       "      <th>male_cast</th>\n",
       "      <th>female_cast</th>\n",
       "    </tr>\n",
       "  </thead>\n",
       "  <tbody>\n",
       "    <tr>\n",
       "      <th>count</th>\n",
       "      <td>85.000000</td>\n",
       "      <td>85.000000</td>\n",
       "      <td>85.000000</td>\n",
       "      <td>85.000000</td>\n",
       "    </tr>\n",
       "    <tr>\n",
       "      <th>mean</th>\n",
       "      <td>1974.164706</td>\n",
       "      <td>1975.164706</td>\n",
       "      <td>16.858824</td>\n",
       "      <td>5.835294</td>\n",
       "    </tr>\n",
       "    <tr>\n",
       "      <th>std</th>\n",
       "      <td>27.288951</td>\n",
       "      <td>27.350828</td>\n",
       "      <td>12.125488</td>\n",
       "      <td>4.369393</td>\n",
       "    </tr>\n",
       "    <tr>\n",
       "      <th>min</th>\n",
       "      <td>1927.000000</td>\n",
       "      <td>1929.000000</td>\n",
       "      <td>4.000000</td>\n",
       "      <td>1.000000</td>\n",
       "    </tr>\n",
       "    <tr>\n",
       "      <th>25%</th>\n",
       "      <td>1950.000000</td>\n",
       "      <td>1951.000000</td>\n",
       "      <td>9.000000</td>\n",
       "      <td>3.000000</td>\n",
       "    </tr>\n",
       "    <tr>\n",
       "      <th>50%</th>\n",
       "      <td>1975.000000</td>\n",
       "      <td>1976.000000</td>\n",
       "      <td>14.000000</td>\n",
       "      <td>5.000000</td>\n",
       "    </tr>\n",
       "    <tr>\n",
       "      <th>75%</th>\n",
       "      <td>1998.000000</td>\n",
       "      <td>1999.000000</td>\n",
       "      <td>21.000000</td>\n",
       "      <td>7.000000</td>\n",
       "    </tr>\n",
       "    <tr>\n",
       "      <th>max</th>\n",
       "      <td>2019.000000</td>\n",
       "      <td>2020.000000</td>\n",
       "      <td>89.000000</td>\n",
       "      <td>29.000000</td>\n",
       "    </tr>\n",
       "  </tbody>\n",
       "</table>\n",
       "</div>"
      ],
      "text/plain": [
       "              year   award_year  male_cast  female_cast\n",
       "count    85.000000    85.000000  85.000000    85.000000\n",
       "mean   1974.164706  1975.164706  16.858824     5.835294\n",
       "std      27.288951    27.350828  12.125488     4.369393\n",
       "min    1927.000000  1929.000000   4.000000     1.000000\n",
       "25%    1950.000000  1951.000000   9.000000     3.000000\n",
       "50%    1975.000000  1976.000000  14.000000     5.000000\n",
       "75%    1998.000000  1999.000000  21.000000     7.000000\n",
       "max    2019.000000  2020.000000  89.000000    29.000000"
      ]
     },
     "execution_count": 5,
     "metadata": {},
     "output_type": "execute_result"
    }
   ],
   "source": [
    "df.describe()  # Descriptive statistics"
   ]
  },
  {
   "cell_type": "markdown",
   "metadata": {
    "id": "n-1bGEcMWjox"
   },
   "source": [
    "As you can see by what they return, these methods return another DataFrame with some descriptive statistics on the file, such as the number of entries (count), the mean of the numerical values, the standard deviation, minimum and maximum values, and the 25th, 50th, and 75th percentiles."
   ]
  },
  {
   "cell_type": "markdown",
   "metadata": {
    "id": "8ZYj1kD7Wjox"
   },
   "source": [
    "The `.info()` method can also be informative. It gives you information about a dataframe:\n",
    "- how much space does it take in memory?\n",
    "- what is the datatype of each column?\n",
    "- how many records are there?\n",
    "- how many `null` values does each column contain (!)?"
   ]
  },
  {
   "cell_type": "code",
   "execution_count": 7,
   "metadata": {
    "id": "4uRZBDUSWjox"
   },
   "outputs": [
    {
     "name": "stdout",
     "output_type": "stream",
     "text": [
      "<class 'pandas.core.frame.DataFrame'>\n",
      "RangeIndex: 85 entries, 0 to 84\n",
      "Data columns (total 8 columns):\n",
      " #   Column       Non-Null Count  Dtype \n",
      "---  ------       --------------  ----- \n",
      " 0   movie        85 non-null     object\n",
      " 1   imdb         85 non-null     object\n",
      " 2   year         85 non-null     int64 \n",
      " 3   award_year   85 non-null     int64 \n",
      " 4   directors    85 non-null     object\n",
      " 5   companies    85 non-null     object\n",
      " 6   male_cast    85 non-null     int64 \n",
      " 7   female_cast  85 non-null     int64 \n",
      "dtypes: int64(4), object(4)\n",
      "memory usage: 5.4+ KB\n"
     ]
    }
   ],
   "source": [
    "df.info()"
   ]
  },
  {
   "cell_type": "markdown",
   "metadata": {
    "id": "b4KMJ_iRWjox"
   },
   "source": [
    "Pandas automatically interprets which datatypes are used in the file, but this is not always correct. Especially if you have empty fields in the DataFrame, any other integers get interpreted as float. Every column has one datatype. You can check them separately by requesting the `.dtypes` argument on the `df`. \n",
    "\n",
    "The 'object' type is a string in this file, 'int64' is an integer. "
   ]
  },
  {
   "cell_type": "code",
   "execution_count": 8,
   "metadata": {
    "id": "zhqOi1OWWjoy"
   },
   "outputs": [
    {
     "data": {
      "text/plain": [
       "movie          object\n",
       "imdb           object\n",
       "year            int64\n",
       "award_year      int64\n",
       "directors      object\n",
       "companies      object\n",
       "male_cast       int64\n",
       "female_cast     int64\n",
       "dtype: object"
      ]
     },
     "execution_count": 8,
     "metadata": {},
     "output_type": "execute_result"
    }
   ],
   "source": [
    "df.dtypes"
   ]
  },
  {
   "cell_type": "markdown",
   "metadata": {
    "id": "-efRk_jcWjoy"
   },
   "source": [
    "We expect different datatypes for the description-dataframe:"
   ]
  },
  {
   "cell_type": "code",
   "execution_count": 9,
   "metadata": {
    "id": "saBMJ_S4Wjoy"
   },
   "outputs": [
    {
     "data": {
      "text/plain": [
       "year           float64\n",
       "award_year     float64\n",
       "male_cast      float64\n",
       "female_cast    float64\n",
       "dtype: object"
      ]
     },
     "execution_count": 9,
     "metadata": {},
     "output_type": "execute_result"
    }
   ],
   "source": [
    "description_df = df.describe()\n",
    "description_df.dtypes"
   ]
  },
  {
   "cell_type": "markdown",
   "metadata": {
    "id": "7Sxekrz5Wjoy"
   },
   "source": [
    "### Slicing and selecting"
   ]
  },
  {
   "cell_type": "markdown",
   "metadata": {
    "id": "EdvQxN2rWjoy"
   },
   "source": [
    "#### `df['column1']`\n",
    "You can select a single column by calling this column name as if the DataFrame was a dictionary. A single column from a DataFrame returns a `Series` object. "
   ]
  },
  {
   "cell_type": "code",
   "execution_count": 11,
   "metadata": {
    "id": "sjl04WKLWjoy"
   },
   "outputs": [
    {
     "data": {
      "text/html": [
       "<div>\n",
       "<style scoped>\n",
       "    .dataframe tbody tr th:only-of-type {\n",
       "        vertical-align: middle;\n",
       "    }\n",
       "\n",
       "    .dataframe tbody tr th {\n",
       "        vertical-align: top;\n",
       "    }\n",
       "\n",
       "    .dataframe thead th {\n",
       "        text-align: right;\n",
       "    }\n",
       "</style>\n",
       "<table border=\"1\" class=\"dataframe\">\n",
       "  <thead>\n",
       "    <tr style=\"text-align: right;\">\n",
       "      <th></th>\n",
       "      <th>movie</th>\n",
       "      <th>imdb</th>\n",
       "      <th>year</th>\n",
       "      <th>award_year</th>\n",
       "      <th>directors</th>\n",
       "      <th>companies</th>\n",
       "      <th>male_cast</th>\n",
       "      <th>female_cast</th>\n",
       "    </tr>\n",
       "  </thead>\n",
       "  <tbody>\n",
       "    <tr>\n",
       "      <th>0</th>\n",
       "      <td>Wings</td>\n",
       "      <td>tt0018578</td>\n",
       "      <td>1927</td>\n",
       "      <td>1929</td>\n",
       "      <td>William A. Wellman, Harry d’Abbadie d’Arrast</td>\n",
       "      <td>Paramount Pictures</td>\n",
       "      <td>12</td>\n",
       "      <td>5</td>\n",
       "    </tr>\n",
       "    <tr>\n",
       "      <th>1</th>\n",
       "      <td>The Broadway Melody</td>\n",
       "      <td>tt0019729</td>\n",
       "      <td>1929</td>\n",
       "      <td>1930</td>\n",
       "      <td>Harry Beaumont</td>\n",
       "      <td>Metro-Goldwyn-Mayer</td>\n",
       "      <td>4</td>\n",
       "      <td>3</td>\n",
       "    </tr>\n",
       "    <tr>\n",
       "      <th>2</th>\n",
       "      <td>All Quiet on the Western Front</td>\n",
       "      <td>tt0020629</td>\n",
       "      <td>1930</td>\n",
       "      <td>1930</td>\n",
       "      <td>Lewis Milestone, Nate Watt</td>\n",
       "      <td>Universal Pictures</td>\n",
       "      <td>22</td>\n",
       "      <td>6</td>\n",
       "    </tr>\n",
       "    <tr>\n",
       "      <th>3</th>\n",
       "      <td>Cimarron</td>\n",
       "      <td>tt0021746</td>\n",
       "      <td>1931</td>\n",
       "      <td>1931</td>\n",
       "      <td>Wesley Ruggles</td>\n",
       "      <td>RKO Pictures</td>\n",
       "      <td>13</td>\n",
       "      <td>6</td>\n",
       "    </tr>\n",
       "    <tr>\n",
       "      <th>4</th>\n",
       "      <td>Grand Hotel</td>\n",
       "      <td>tt0022958</td>\n",
       "      <td>1932</td>\n",
       "      <td>1932</td>\n",
       "      <td>Edmund Goulding</td>\n",
       "      <td>Metro-Goldwyn-Mayer</td>\n",
       "      <td>19</td>\n",
       "      <td>8</td>\n",
       "    </tr>\n",
       "    <tr>\n",
       "      <th>...</th>\n",
       "      <td>...</td>\n",
       "      <td>...</td>\n",
       "      <td>...</td>\n",
       "      <td>...</td>\n",
       "      <td>...</td>\n",
       "      <td>...</td>\n",
       "      <td>...</td>\n",
       "      <td>...</td>\n",
       "    </tr>\n",
       "    <tr>\n",
       "      <th>80</th>\n",
       "      <td>Spotlight</td>\n",
       "      <td>tt1895587</td>\n",
       "      <td>2015</td>\n",
       "      <td>2016</td>\n",
       "      <td>Tom McCarthy</td>\n",
       "      <td>Anonymous Content, Participant</td>\n",
       "      <td>15</td>\n",
       "      <td>2</td>\n",
       "    </tr>\n",
       "    <tr>\n",
       "      <th>81</th>\n",
       "      <td>Moonlight</td>\n",
       "      <td>tt4975722</td>\n",
       "      <td>2016</td>\n",
       "      <td>2017</td>\n",
       "      <td>Barry Jenkins</td>\n",
       "      <td>Plan B Entertainment, A24</td>\n",
       "      <td>6</td>\n",
       "      <td>2</td>\n",
       "    </tr>\n",
       "    <tr>\n",
       "      <th>82</th>\n",
       "      <td>The Shape of Water</td>\n",
       "      <td>tt5580390</td>\n",
       "      <td>2017</td>\n",
       "      <td>2018</td>\n",
       "      <td>Guillermo del Toro</td>\n",
       "      <td>Searchlight Pictures, TSG Entertainment</td>\n",
       "      <td>8</td>\n",
       "      <td>3</td>\n",
       "    </tr>\n",
       "    <tr>\n",
       "      <th>83</th>\n",
       "      <td>Green Book</td>\n",
       "      <td>tt6966692</td>\n",
       "      <td>2018</td>\n",
       "      <td>2019</td>\n",
       "      <td>Peter Farrelly</td>\n",
       "      <td>Universal Pictures, DreamWorks, Participant, A...</td>\n",
       "      <td>7</td>\n",
       "      <td>1</td>\n",
       "    </tr>\n",
       "    <tr>\n",
       "      <th>84</th>\n",
       "      <td>Parasite</td>\n",
       "      <td>tt6751668</td>\n",
       "      <td>2019</td>\n",
       "      <td>2020</td>\n",
       "      <td>Bong Joon-ho</td>\n",
       "      <td>CJ Entertainment, Barunson E&amp;A</td>\n",
       "      <td>5</td>\n",
       "      <td>5</td>\n",
       "    </tr>\n",
       "  </tbody>\n",
       "</table>\n",
       "<p>85 rows × 8 columns</p>\n",
       "</div>"
      ],
      "text/plain": [
       "                             movie       imdb  year  award_year  \\\n",
       "0                            Wings  tt0018578  1927        1929   \n",
       "1              The Broadway Melody  tt0019729  1929        1930   \n",
       "2   All Quiet on the Western Front  tt0020629  1930        1930   \n",
       "3                         Cimarron  tt0021746  1931        1931   \n",
       "4                      Grand Hotel  tt0022958  1932        1932   \n",
       "..                             ...        ...   ...         ...   \n",
       "80                       Spotlight  tt1895587  2015        2016   \n",
       "81                       Moonlight  tt4975722  2016        2017   \n",
       "82              The Shape of Water  tt5580390  2017        2018   \n",
       "83                      Green Book  tt6966692  2018        2019   \n",
       "84                        Parasite  tt6751668  2019        2020   \n",
       "\n",
       "                                       directors  \\\n",
       "0   William A. Wellman, Harry d’Abbadie d’Arrast   \n",
       "1                                 Harry Beaumont   \n",
       "2                     Lewis Milestone, Nate Watt   \n",
       "3                                 Wesley Ruggles   \n",
       "4                                Edmund Goulding   \n",
       "..                                           ...   \n",
       "80                                  Tom McCarthy   \n",
       "81                                 Barry Jenkins   \n",
       "82                            Guillermo del Toro   \n",
       "83                                Peter Farrelly   \n",
       "84                                  Bong Joon-ho   \n",
       "\n",
       "                                            companies  male_cast  female_cast  \n",
       "0                                  Paramount Pictures         12            5  \n",
       "1                                 Metro-Goldwyn-Mayer          4            3  \n",
       "2                                  Universal Pictures         22            6  \n",
       "3                                        RKO Pictures         13            6  \n",
       "4                                 Metro-Goldwyn-Mayer         19            8  \n",
       "..                                                ...        ...          ...  \n",
       "80                     Anonymous Content, Participant         15            2  \n",
       "81                          Plan B Entertainment, A24          6            2  \n",
       "82            Searchlight Pictures, TSG Entertainment          8            3  \n",
       "83  Universal Pictures, DreamWorks, Participant, A...          7            1  \n",
       "84                     CJ Entertainment, Barunson E&A          5            5  \n",
       "\n",
       "[85 rows x 8 columns]"
      ]
     },
     "execution_count": 11,
     "metadata": {},
     "output_type": "execute_result"
    }
   ],
   "source": [
    "df"
   ]
  },
  {
   "cell_type": "code",
   "execution_count": 10,
   "metadata": {
    "id": "gdJ1qooIWjoz"
   },
   "outputs": [
    {
     "name": "stdout",
     "output_type": "stream",
     "text": [
      "<class 'pandas.core.series.Series'>\n"
     ]
    },
    {
     "data": {
      "text/plain": [
       "0                              Wings\n",
       "1                The Broadway Melody\n",
       "2     All Quiet on the Western Front\n",
       "3                           Cimarron\n",
       "4                        Grand Hotel\n",
       "                   ...              \n",
       "80                         Spotlight\n",
       "81                         Moonlight\n",
       "82                The Shape of Water\n",
       "83                        Green Book\n",
       "84                          Parasite\n",
       "Name: movie, Length: 85, dtype: object"
      ]
     },
     "execution_count": 10,
     "metadata": {},
     "output_type": "execute_result"
    }
   ],
   "source": [
    "print(type(df['movie']))\n",
    "\n",
    "df['movie']"
   ]
  },
  {
   "cell_type": "markdown",
   "metadata": {
    "id": "86VDt-g1Wjoz"
   },
   "source": [
    "The `Series` object is very similar to a `list`:"
   ]
  },
  {
   "cell_type": "code",
   "execution_count": 12,
   "metadata": {
    "id": "PjmysaDdWjoz"
   },
   "outputs": [
    {
     "name": "stdout",
     "output_type": "stream",
     "text": [
      "Length: 85\n",
      "\n",
      "1\tWings\n",
      "2\tThe Broadway Melody\n",
      "3\tAll Quiet on the Western Front\n",
      "4\tCimarron\n",
      "5\tGrand Hotel\n",
      "6\tIt Happened One Night\n",
      "7\tMutiny on the Bounty\n",
      "8\tThe Great Ziegfeld\n",
      "9\tThe Life of Emile Zola\n",
      "10\tYou Can't Take It With You\n"
     ]
    }
   ],
   "source": [
    "movies = df['movie']\n",
    "\n",
    "print(\"Length:\", len(movies))\n",
    "print()\n",
    "\n",
    "for n, movie in enumerate(movies[:10], 1):\n",
    "    print(n, movie, sep='\\t')"
   ]
  },
  {
   "cell_type": "markdown",
   "metadata": {
    "id": "TSSri8hWWjoz"
   },
   "source": [
    "#### `df[['column1', 'column2']]`\n",
    "We can also slice a DataFrame by calling multiple column names as one list:"
   ]
  },
  {
   "cell_type": "code",
   "execution_count": 13,
   "metadata": {
    "id": "eX05cSQ_Wjoz"
   },
   "outputs": [
    {
     "data": {
      "text/html": [
       "<div>\n",
       "<style scoped>\n",
       "    .dataframe tbody tr th:only-of-type {\n",
       "        vertical-align: middle;\n",
       "    }\n",
       "\n",
       "    .dataframe tbody tr th {\n",
       "        vertical-align: top;\n",
       "    }\n",
       "\n",
       "    .dataframe thead th {\n",
       "        text-align: right;\n",
       "    }\n",
       "</style>\n",
       "<table border=\"1\" class=\"dataframe\">\n",
       "  <thead>\n",
       "    <tr style=\"text-align: right;\">\n",
       "      <th></th>\n",
       "      <th>movie</th>\n",
       "      <th>imdb</th>\n",
       "    </tr>\n",
       "  </thead>\n",
       "  <tbody>\n",
       "    <tr>\n",
       "      <th>0</th>\n",
       "      <td>Wings</td>\n",
       "      <td>tt0018578</td>\n",
       "    </tr>\n",
       "    <tr>\n",
       "      <th>1</th>\n",
       "      <td>The Broadway Melody</td>\n",
       "      <td>tt0019729</td>\n",
       "    </tr>\n",
       "    <tr>\n",
       "      <th>2</th>\n",
       "      <td>All Quiet on the Western Front</td>\n",
       "      <td>tt0020629</td>\n",
       "    </tr>\n",
       "    <tr>\n",
       "      <th>3</th>\n",
       "      <td>Cimarron</td>\n",
       "      <td>tt0021746</td>\n",
       "    </tr>\n",
       "    <tr>\n",
       "      <th>4</th>\n",
       "      <td>Grand Hotel</td>\n",
       "      <td>tt0022958</td>\n",
       "    </tr>\n",
       "    <tr>\n",
       "      <th>...</th>\n",
       "      <td>...</td>\n",
       "      <td>...</td>\n",
       "    </tr>\n",
       "    <tr>\n",
       "      <th>80</th>\n",
       "      <td>Spotlight</td>\n",
       "      <td>tt1895587</td>\n",
       "    </tr>\n",
       "    <tr>\n",
       "      <th>81</th>\n",
       "      <td>Moonlight</td>\n",
       "      <td>tt4975722</td>\n",
       "    </tr>\n",
       "    <tr>\n",
       "      <th>82</th>\n",
       "      <td>The Shape of Water</td>\n",
       "      <td>tt5580390</td>\n",
       "    </tr>\n",
       "    <tr>\n",
       "      <th>83</th>\n",
       "      <td>Green Book</td>\n",
       "      <td>tt6966692</td>\n",
       "    </tr>\n",
       "    <tr>\n",
       "      <th>84</th>\n",
       "      <td>Parasite</td>\n",
       "      <td>tt6751668</td>\n",
       "    </tr>\n",
       "  </tbody>\n",
       "</table>\n",
       "<p>85 rows × 2 columns</p>\n",
       "</div>"
      ],
      "text/plain": [
       "                             movie       imdb\n",
       "0                            Wings  tt0018578\n",
       "1              The Broadway Melody  tt0019729\n",
       "2   All Quiet on the Western Front  tt0020629\n",
       "3                         Cimarron  tt0021746\n",
       "4                      Grand Hotel  tt0022958\n",
       "..                             ...        ...\n",
       "80                       Spotlight  tt1895587\n",
       "81                       Moonlight  tt4975722\n",
       "82              The Shape of Water  tt5580390\n",
       "83                      Green Book  tt6966692\n",
       "84                        Parasite  tt6751668\n",
       "\n",
       "[85 rows x 2 columns]"
      ]
     },
     "execution_count": 13,
     "metadata": {},
     "output_type": "execute_result"
    }
   ],
   "source": [
    "df[['movie', 'imdb']]"
   ]
  },
  {
   "cell_type": "markdown",
   "metadata": {},
   "source": [
    "### Quiz\n",
    "\n",
    "* Print a list of all unique companies that have produced an Academy Award-winning movie.\n"
   ]
  },
  {
   "cell_type": "code",
   "execution_count": null,
   "metadata": {},
   "outputs": [],
   "source": [
    "# Your code here"
   ]
  },
  {
   "cell_type": "markdown",
   "metadata": {
    "id": "hT-DeTVZWjo0"
   },
   "source": [
    "### Looping over DataFrames"
   ]
  },
  {
   "cell_type": "markdown",
   "metadata": {
    "id": "zgq83jp3fE1W"
   },
   "source": [
    "You might expect that if you loop through a DataFrame, you get all the rows. Sadly, it is not that simple, because we now have data in two dimensions. We instead get all the column names (or the first row of the dataframe):"
   ]
  },
  {
   "cell_type": "code",
   "execution_count": 14,
   "metadata": {
    "id": "zd_rZaWbekwm"
   },
   "outputs": [
    {
     "name": "stdout",
     "output_type": "stream",
     "text": [
      "movie\n",
      "imdb\n",
      "year\n",
      "award_year\n",
      "directors\n",
      "companies\n",
      "male_cast\n",
      "female_cast\n"
     ]
    }
   ],
   "source": [
    "for r in df:\n",
    "    print(r)"
   ]
  },
  {
   "cell_type": "markdown",
   "metadata": {
    "id": "fGKJuYDTWjo0",
    "tags": []
   },
   "source": [
    "Fortunately, there are a few methods we can use to help us with this. We present two here: looping through the dataframe's rows using iterrows(), and looping over a dictionary version of the dataframe.\n",
    "\n",
    "You can also use the `zip()` function to get tuples from the dataframe which is quite flexible but more advanced, this is shown in the supplementary materials notebook."
   ]
  },
  {
   "cell_type": "markdown",
   "metadata": {
    "id": "0NieFABdWjo1",
    "tags": []
   },
   "source": [
    "#### `.iterrows()`\n",
    "The easiest and most readable way to loop through a dataframe is using the `.iterrows()` method, which gives you tuples of the index of the row, and the row itself as `Series` object:"
   ]
  },
  {
   "cell_type": "code",
   "execution_count": 17,
   "metadata": {
    "id": "T6dq7r6wWjo0"
   },
   "outputs": [
    {
     "data": {
      "text/html": [
       "<div>\n",
       "<style scoped>\n",
       "    .dataframe tbody tr th:only-of-type {\n",
       "        vertical-align: middle;\n",
       "    }\n",
       "\n",
       "    .dataframe tbody tr th {\n",
       "        vertical-align: top;\n",
       "    }\n",
       "\n",
       "    .dataframe thead th {\n",
       "        text-align: right;\n",
       "    }\n",
       "</style>\n",
       "<table border=\"1\" class=\"dataframe\">\n",
       "  <thead>\n",
       "    <tr style=\"text-align: right;\">\n",
       "      <th></th>\n",
       "      <th>movie</th>\n",
       "      <th>imdb</th>\n",
       "      <th>year</th>\n",
       "      <th>award_year</th>\n",
       "      <th>directors</th>\n",
       "      <th>companies</th>\n",
       "      <th>male_cast</th>\n",
       "      <th>female_cast</th>\n",
       "    </tr>\n",
       "  </thead>\n",
       "  <tbody>\n",
       "    <tr>\n",
       "      <th>0</th>\n",
       "      <td>Wings</td>\n",
       "      <td>tt0018578</td>\n",
       "      <td>1927</td>\n",
       "      <td>1929</td>\n",
       "      <td>William A. Wellman, Harry d’Abbadie d’Arrast</td>\n",
       "      <td>Paramount Pictures</td>\n",
       "      <td>12</td>\n",
       "      <td>5</td>\n",
       "    </tr>\n",
       "  </tbody>\n",
       "</table>\n",
       "</div>"
      ],
      "text/plain": [
       "   movie       imdb  year  award_year  \\\n",
       "0  Wings  tt0018578  1927        1929   \n",
       "\n",
       "                                      directors           companies  \\\n",
       "0  William A. Wellman, Harry d’Abbadie d’Arrast  Paramount Pictures   \n",
       "\n",
       "   male_cast  female_cast  \n",
       "0         12            5  "
      ]
     },
     "execution_count": 17,
     "metadata": {},
     "output_type": "execute_result"
    }
   ],
   "source": [
    "df.head(1)"
   ]
  },
  {
   "cell_type": "code",
   "execution_count": 19,
   "metadata": {
    "id": "r0hAAQxIWjo1",
    "tags": []
   },
   "outputs": [
    {
     "name": "stdout",
     "output_type": "stream",
     "text": [
      "The movie Wings was produced in 1927 and won in 1929.\n",
      "\n"
     ]
    }
   ],
   "source": [
    "for n, r in df.iterrows():\n",
    "    \n",
    "    name = r.movie  # You can use a dot notation here\n",
    "    year = r.year\n",
    "    won = r.award_year\n",
    "    \n",
    "    print(f\"The movie {name} was produced in {year} and won in {won}.\")\n",
    "    \n",
    "    print()\n",
    "    \n",
    "    break  # To not flood the notebook, only print the first"
   ]
  },
  {
   "cell_type": "markdown",
   "metadata": {
    "id": "25eEafp-Wjo0"
   },
   "source": [
    "#### `.to_dict(orient='record')`\n",
    "Or, looping while accessing all entries in a convenient way, as a Python dictionary for instance, can be done with the `.to_dict(orient='records')` method:"
   ]
  },
  {
   "cell_type": "code",
   "execution_count": 18,
   "metadata": {
    "id": "oaeltbGNWjo0"
   },
   "outputs": [
    {
     "name": "stdout",
     "output_type": "stream",
     "text": [
      "{'movie': 'Wings', 'imdb': 'tt0018578', 'year': 1927, 'award_year': 1929, 'directors': 'William A. Wellman, Harry d’Abbadie d’Arrast', 'companies': 'Paramount Pictures', 'male_cast': 12, 'female_cast': 5}\n",
      "\n",
      "The movie Wings was produced in 1927 and won in 1929.\n",
      "\n"
     ]
    }
   ],
   "source": [
    "for r in df.to_dict(orient='records'):\n",
    "    \n",
    "    print(r)\n",
    "    print()\n",
    "    \n",
    "    name = r['movie']\n",
    "    year = r['year']\n",
    "    won = r['award_year']\n",
    "    \n",
    "    print(\"The movie \" + name + \" was produced in \" + str(year) + \" and won in \" + str(won) + \".\")\n",
    "    \n",
    "    print()\n",
    "    \n",
    "    break  # To not flood the notebook, only print the first"
   ]
  },
  {
   "cell_type": "markdown",
   "metadata": {
    "id": "uABpa0I8Wjo1"
   },
   "source": [
    "---"
   ]
  },
  {
   "cell_type": "markdown",
   "metadata": {
    "id": "X1e4rchVWjo1"
   },
   "source": [
    "### Data analysis"
   ]
  },
  {
   "cell_type": "code",
   "execution_count": 20,
   "metadata": {
    "id": "cuUKTCx7Wjo1"
   },
   "outputs": [
    {
     "data": {
      "text/html": [
       "<div>\n",
       "<style scoped>\n",
       "    .dataframe tbody tr th:only-of-type {\n",
       "        vertical-align: middle;\n",
       "    }\n",
       "\n",
       "    .dataframe tbody tr th {\n",
       "        vertical-align: top;\n",
       "    }\n",
       "\n",
       "    .dataframe thead th {\n",
       "        text-align: right;\n",
       "    }\n",
       "</style>\n",
       "<table border=\"1\" class=\"dataframe\">\n",
       "  <thead>\n",
       "    <tr style=\"text-align: right;\">\n",
       "      <th></th>\n",
       "      <th>movie</th>\n",
       "      <th>imdb</th>\n",
       "      <th>year</th>\n",
       "      <th>award_year</th>\n",
       "      <th>directors</th>\n",
       "      <th>companies</th>\n",
       "      <th>male_cast</th>\n",
       "      <th>female_cast</th>\n",
       "    </tr>\n",
       "  </thead>\n",
       "  <tbody>\n",
       "    <tr>\n",
       "      <th>0</th>\n",
       "      <td>Wings</td>\n",
       "      <td>tt0018578</td>\n",
       "      <td>1927</td>\n",
       "      <td>1929</td>\n",
       "      <td>William A. Wellman, Harry d’Abbadie d’Arrast</td>\n",
       "      <td>Paramount Pictures</td>\n",
       "      <td>12</td>\n",
       "      <td>5</td>\n",
       "    </tr>\n",
       "    <tr>\n",
       "      <th>1</th>\n",
       "      <td>The Broadway Melody</td>\n",
       "      <td>tt0019729</td>\n",
       "      <td>1929</td>\n",
       "      <td>1930</td>\n",
       "      <td>Harry Beaumont</td>\n",
       "      <td>Metro-Goldwyn-Mayer</td>\n",
       "      <td>4</td>\n",
       "      <td>3</td>\n",
       "    </tr>\n",
       "    <tr>\n",
       "      <th>2</th>\n",
       "      <td>All Quiet on the Western Front</td>\n",
       "      <td>tt0020629</td>\n",
       "      <td>1930</td>\n",
       "      <td>1930</td>\n",
       "      <td>Lewis Milestone, Nate Watt</td>\n",
       "      <td>Universal Pictures</td>\n",
       "      <td>22</td>\n",
       "      <td>6</td>\n",
       "    </tr>\n",
       "    <tr>\n",
       "      <th>3</th>\n",
       "      <td>Cimarron</td>\n",
       "      <td>tt0021746</td>\n",
       "      <td>1931</td>\n",
       "      <td>1931</td>\n",
       "      <td>Wesley Ruggles</td>\n",
       "      <td>RKO Pictures</td>\n",
       "      <td>13</td>\n",
       "      <td>6</td>\n",
       "    </tr>\n",
       "    <tr>\n",
       "      <th>4</th>\n",
       "      <td>Grand Hotel</td>\n",
       "      <td>tt0022958</td>\n",
       "      <td>1932</td>\n",
       "      <td>1932</td>\n",
       "      <td>Edmund Goulding</td>\n",
       "      <td>Metro-Goldwyn-Mayer</td>\n",
       "      <td>19</td>\n",
       "      <td>8</td>\n",
       "    </tr>\n",
       "    <tr>\n",
       "      <th>...</th>\n",
       "      <td>...</td>\n",
       "      <td>...</td>\n",
       "      <td>...</td>\n",
       "      <td>...</td>\n",
       "      <td>...</td>\n",
       "      <td>...</td>\n",
       "      <td>...</td>\n",
       "      <td>...</td>\n",
       "    </tr>\n",
       "    <tr>\n",
       "      <th>80</th>\n",
       "      <td>Spotlight</td>\n",
       "      <td>tt1895587</td>\n",
       "      <td>2015</td>\n",
       "      <td>2016</td>\n",
       "      <td>Tom McCarthy</td>\n",
       "      <td>Anonymous Content, Participant</td>\n",
       "      <td>15</td>\n",
       "      <td>2</td>\n",
       "    </tr>\n",
       "    <tr>\n",
       "      <th>81</th>\n",
       "      <td>Moonlight</td>\n",
       "      <td>tt4975722</td>\n",
       "      <td>2016</td>\n",
       "      <td>2017</td>\n",
       "      <td>Barry Jenkins</td>\n",
       "      <td>Plan B Entertainment, A24</td>\n",
       "      <td>6</td>\n",
       "      <td>2</td>\n",
       "    </tr>\n",
       "    <tr>\n",
       "      <th>82</th>\n",
       "      <td>The Shape of Water</td>\n",
       "      <td>tt5580390</td>\n",
       "      <td>2017</td>\n",
       "      <td>2018</td>\n",
       "      <td>Guillermo del Toro</td>\n",
       "      <td>Searchlight Pictures, TSG Entertainment</td>\n",
       "      <td>8</td>\n",
       "      <td>3</td>\n",
       "    </tr>\n",
       "    <tr>\n",
       "      <th>83</th>\n",
       "      <td>Green Book</td>\n",
       "      <td>tt6966692</td>\n",
       "      <td>2018</td>\n",
       "      <td>2019</td>\n",
       "      <td>Peter Farrelly</td>\n",
       "      <td>Universal Pictures, DreamWorks, Participant, A...</td>\n",
       "      <td>7</td>\n",
       "      <td>1</td>\n",
       "    </tr>\n",
       "    <tr>\n",
       "      <th>84</th>\n",
       "      <td>Parasite</td>\n",
       "      <td>tt6751668</td>\n",
       "      <td>2019</td>\n",
       "      <td>2020</td>\n",
       "      <td>Bong Joon-ho</td>\n",
       "      <td>CJ Entertainment, Barunson E&amp;A</td>\n",
       "      <td>5</td>\n",
       "      <td>5</td>\n",
       "    </tr>\n",
       "  </tbody>\n",
       "</table>\n",
       "<p>85 rows × 8 columns</p>\n",
       "</div>"
      ],
      "text/plain": [
       "                             movie       imdb  year  award_year  \\\n",
       "0                            Wings  tt0018578  1927        1929   \n",
       "1              The Broadway Melody  tt0019729  1929        1930   \n",
       "2   All Quiet on the Western Front  tt0020629  1930        1930   \n",
       "3                         Cimarron  tt0021746  1931        1931   \n",
       "4                      Grand Hotel  tt0022958  1932        1932   \n",
       "..                             ...        ...   ...         ...   \n",
       "80                       Spotlight  tt1895587  2015        2016   \n",
       "81                       Moonlight  tt4975722  2016        2017   \n",
       "82              The Shape of Water  tt5580390  2017        2018   \n",
       "83                      Green Book  tt6966692  2018        2019   \n",
       "84                        Parasite  tt6751668  2019        2020   \n",
       "\n",
       "                                       directors  \\\n",
       "0   William A. Wellman, Harry d’Abbadie d’Arrast   \n",
       "1                                 Harry Beaumont   \n",
       "2                     Lewis Milestone, Nate Watt   \n",
       "3                                 Wesley Ruggles   \n",
       "4                                Edmund Goulding   \n",
       "..                                           ...   \n",
       "80                                  Tom McCarthy   \n",
       "81                                 Barry Jenkins   \n",
       "82                            Guillermo del Toro   \n",
       "83                                Peter Farrelly   \n",
       "84                                  Bong Joon-ho   \n",
       "\n",
       "                                            companies  male_cast  female_cast  \n",
       "0                                  Paramount Pictures         12            5  \n",
       "1                                 Metro-Goldwyn-Mayer          4            3  \n",
       "2                                  Universal Pictures         22            6  \n",
       "3                                        RKO Pictures         13            6  \n",
       "4                                 Metro-Goldwyn-Mayer         19            8  \n",
       "..                                                ...        ...          ...  \n",
       "80                     Anonymous Content, Participant         15            2  \n",
       "81                          Plan B Entertainment, A24          6            2  \n",
       "82            Searchlight Pictures, TSG Entertainment          8            3  \n",
       "83  Universal Pictures, DreamWorks, Participant, A...          7            1  \n",
       "84                     CJ Entertainment, Barunson E&A          5            5  \n",
       "\n",
       "[85 rows x 8 columns]"
      ]
     },
     "execution_count": 20,
     "metadata": {},
     "output_type": "execute_result"
    }
   ],
   "source": [
    "df"
   ]
  },
  {
   "cell_type": "markdown",
   "metadata": {
    "id": "1a0kPAJ7Wjo2"
   },
   "source": [
    "You already saw above that you could get statistics by calling `.describe()` on a DataFrame. You can also get these metrics for individual columns. Let's ask the maximum number of male and female actors in the cast of a movie:"
   ]
  },
  {
   "cell_type": "code",
   "execution_count": 22,
   "metadata": {
    "id": "NRjrTge4Wjo2"
   },
   "outputs": [
    {
     "data": {
      "text/plain": [
       "29"
      ]
     },
     "execution_count": 22,
     "metadata": {},
     "output_type": "execute_result"
    }
   ],
   "source": [
    "df['female_cast'].max()"
   ]
  },
  {
   "cell_type": "code",
   "execution_count": 23,
   "metadata": {
    "id": "fzcZp6p7Wjo2"
   },
   "outputs": [
    {
     "data": {
      "text/plain": [
       "89"
      ]
     },
     "execution_count": 23,
     "metadata": {},
     "output_type": "execute_result"
    }
   ],
   "source": [
    "df['male_cast'].max()"
   ]
  },
  {
   "cell_type": "markdown",
   "metadata": {
    "id": "ouz_x1srWjo2"
   },
   "source": [
    "You can also apply these operations to multiple columns at once. You get a `Series` object back. "
   ]
  },
  {
   "cell_type": "code",
   "execution_count": 24,
   "metadata": {
    "id": "HDttAFhqWjo2"
   },
   "outputs": [
    {
     "data": {
      "text/plain": [
       "movie          You Can't Take It With You\n",
       "imdb                            tt6966692\n",
       "year                                 2019\n",
       "award_year                           2020\n",
       "directors                   William Wyler\n",
       "companies       Woodfall Film Productions\n",
       "male_cast                              89\n",
       "female_cast                            29\n",
       "dtype: object"
      ]
     },
     "execution_count": 24,
     "metadata": {},
     "output_type": "execute_result"
    }
   ],
   "source": [
    "df.max()"
   ]
  },
  {
   "cell_type": "code",
   "execution_count": 25,
   "metadata": {
    "id": "T0A80PIaWjo2"
   },
   "outputs": [
    {
     "data": {
      "text/html": [
       "<div>\n",
       "<style scoped>\n",
       "    .dataframe tbody tr th:only-of-type {\n",
       "        vertical-align: middle;\n",
       "    }\n",
       "\n",
       "    .dataframe tbody tr th {\n",
       "        vertical-align: top;\n",
       "    }\n",
       "\n",
       "    .dataframe thead th {\n",
       "        text-align: right;\n",
       "    }\n",
       "</style>\n",
       "<table border=\"1\" class=\"dataframe\">\n",
       "  <thead>\n",
       "    <tr style=\"text-align: right;\">\n",
       "      <th></th>\n",
       "      <th>male_cast</th>\n",
       "      <th>female_cast</th>\n",
       "    </tr>\n",
       "  </thead>\n",
       "  <tbody>\n",
       "    <tr>\n",
       "      <th>0</th>\n",
       "      <td>12</td>\n",
       "      <td>5</td>\n",
       "    </tr>\n",
       "    <tr>\n",
       "      <th>1</th>\n",
       "      <td>4</td>\n",
       "      <td>3</td>\n",
       "    </tr>\n",
       "    <tr>\n",
       "      <th>2</th>\n",
       "      <td>22</td>\n",
       "      <td>6</td>\n",
       "    </tr>\n",
       "    <tr>\n",
       "      <th>3</th>\n",
       "      <td>13</td>\n",
       "      <td>6</td>\n",
       "    </tr>\n",
       "    <tr>\n",
       "      <th>4</th>\n",
       "      <td>19</td>\n",
       "      <td>8</td>\n",
       "    </tr>\n",
       "    <tr>\n",
       "      <th>...</th>\n",
       "      <td>...</td>\n",
       "      <td>...</td>\n",
       "    </tr>\n",
       "    <tr>\n",
       "      <th>80</th>\n",
       "      <td>15</td>\n",
       "      <td>2</td>\n",
       "    </tr>\n",
       "    <tr>\n",
       "      <th>81</th>\n",
       "      <td>6</td>\n",
       "      <td>2</td>\n",
       "    </tr>\n",
       "    <tr>\n",
       "      <th>82</th>\n",
       "      <td>8</td>\n",
       "      <td>3</td>\n",
       "    </tr>\n",
       "    <tr>\n",
       "      <th>83</th>\n",
       "      <td>7</td>\n",
       "      <td>1</td>\n",
       "    </tr>\n",
       "    <tr>\n",
       "      <th>84</th>\n",
       "      <td>5</td>\n",
       "      <td>5</td>\n",
       "    </tr>\n",
       "  </tbody>\n",
       "</table>\n",
       "<p>85 rows × 2 columns</p>\n",
       "</div>"
      ],
      "text/plain": [
       "    male_cast  female_cast\n",
       "0          12            5\n",
       "1           4            3\n",
       "2          22            6\n",
       "3          13            6\n",
       "4          19            8\n",
       "..        ...          ...\n",
       "80         15            2\n",
       "81          6            2\n",
       "82          8            3\n",
       "83          7            1\n",
       "84          5            5\n",
       "\n",
       "[85 rows x 2 columns]"
      ]
     },
     "execution_count": 25,
     "metadata": {},
     "output_type": "execute_result"
    }
   ],
   "source": [
    "df[['male_cast', 'female_cast']]"
   ]
  },
  {
   "cell_type": "code",
   "execution_count": 26,
   "metadata": {
    "id": "DUhUsvZgWjo2"
   },
   "outputs": [
    {
     "data": {
      "text/plain": [
       "male_cast      89\n",
       "female_cast    29\n",
       "dtype: int64"
      ]
     },
     "execution_count": 26,
     "metadata": {},
     "output_type": "execute_result"
    }
   ],
   "source": [
    "slice_df = df[['male_cast', 'female_cast']]\n",
    "\n",
    "slice_df.max()"
   ]
  },
  {
   "cell_type": "markdown",
   "metadata": {
    "id": "V78YM6E_Wjo2"
   },
   "source": [
    "To find the corresponding movie title, we can ask Pandas to give us the record in which these maxima occur. This is done through `df.loc`. This works by asking: \"Give me all the locations (=rows) for which a value in a specified column is equal to this value\". "
   ]
  },
  {
   "cell_type": "code",
   "execution_count": null,
   "metadata": {
    "id": "0VQhT1pSWjo3"
   },
   "outputs": [],
   "source": [
    "df"
   ]
  },
  {
   "cell_type": "code",
   "execution_count": 27,
   "metadata": {
    "id": "rkpB8cUnWjo3"
   },
   "outputs": [
    {
     "data": {
      "text/plain": [
       "male_cast      89\n",
       "female_cast    29\n",
       "dtype: int64"
      ]
     },
     "execution_count": 27,
     "metadata": {},
     "output_type": "execute_result"
    }
   ],
   "source": [
    "df[['male_cast', 'female_cast']].max()"
   ]
  },
  {
   "cell_type": "code",
   "execution_count": null,
   "metadata": {
    "id": "CMg5pvGXWjo3"
   },
   "outputs": [],
   "source": [
    "df[df['female_cast'] > 10]"
   ]
  },
  {
   "cell_type": "code",
   "execution_count": 29,
   "metadata": {
    "id": "yD04bSNMWjo3"
   },
   "outputs": [
    {
     "name": "stdout",
     "output_type": "stream",
     "text": [
      "Movie with maximum for male_cast 89\n",
      "59    Forrest Gump\n",
      "Name: movie, dtype: object\n",
      "\n",
      "Movie with maximum for female_cast 29\n",
      "59    Forrest Gump\n",
      "Name: movie, dtype: object\n",
      "\n"
     ]
    }
   ],
   "source": [
    "for column_name, value in df[['male_cast', 'female_cast']].max().items():\n",
    "    \n",
    "    print(\"Movie with maximum for\", column_name, value)\n",
    "    \n",
    "    row = df.loc[df[column_name] == value]\n",
    "    \n",
    "    print(row.movie)\n",
    "    \n",
    "    print()"
   ]
  },
  {
   "cell_type": "markdown",
   "metadata": {
    "id": "_AXzYkRKWjo3"
   },
   "source": [
    "Other functions that can be used are for instance `.mean()`, `.median()`, `.std()` and `.sum()`."
   ]
  },
  {
   "cell_type": "code",
   "execution_count": 30,
   "metadata": {
    "id": "QUkVzbSxWjo3"
   },
   "outputs": [
    {
     "data": {
      "text/plain": [
       "5.8352941176470585"
      ]
     },
     "execution_count": 30,
     "metadata": {},
     "output_type": "execute_result"
    }
   ],
   "source": [
    "df['female_cast'].mean()"
   ]
  },
  {
   "cell_type": "code",
   "execution_count": 31,
   "metadata": {
    "id": "L9CJ1tH-Wjo3"
   },
   "outputs": [
    {
     "data": {
      "text/plain": [
       "16.858823529411765"
      ]
     },
     "execution_count": 31,
     "metadata": {},
     "output_type": "execute_result"
    }
   ],
   "source": [
    "df['male_cast'].mean()"
   ]
  },
  {
   "cell_type": "code",
   "execution_count": 32,
   "metadata": {
    "id": "Q_zuwCwOWjo4"
   },
   "outputs": [
    {
     "data": {
      "text/plain": [
       "496"
      ]
     },
     "execution_count": 32,
     "metadata": {},
     "output_type": "execute_result"
    }
   ],
   "source": [
    "df['female_cast'].sum()"
   ]
  },
  {
   "cell_type": "code",
   "execution_count": 33,
   "metadata": {
    "id": "QUpm-WCSWjo4"
   },
   "outputs": [
    {
     "data": {
      "text/plain": [
       "1433"
      ]
     },
     "execution_count": 33,
     "metadata": {},
     "output_type": "execute_result"
    }
   ],
   "source": [
    "df['male_cast'].sum()"
   ]
  },
  {
   "cell_type": "code",
   "execution_count": null,
   "metadata": {
    "id": "VMzPbSj3Wjo4"
   },
   "outputs": [],
   "source": [
    "df"
   ]
  },
  {
   "cell_type": "markdown",
   "metadata": {
    "id": "lQvUj6q-Wjo4"
   },
   "source": [
    "Pandas also understands dates, but you have to tell it to interpret a column as such. We can change the `year` column in-place so that it is not interpreted as integer, but as a date object. \n",
    "\n",
    "In this case, since we only have the year available, and not a full date such as `2021-02-22` (YYYY-mm-dd), we have to specify the format. Typing `%Y` as string is shorthand for `YYYY`. It returns a full date, so every month and day are set to January first. "
   ]
  },
  {
   "cell_type": "code",
   "execution_count": null,
   "metadata": {
    "id": "-WRqzRSHWjo4"
   },
   "outputs": [],
   "source": [
    "df['year'] = pd.to_datetime(df['year'], format='%Y')\n",
    "\n",
    "df['award_year'] = pd.to_datetime(df['award_year'], format='%Y')\n",
    "\n",
    "df['year']\n",
    "\n"
   ]
  },
  {
   "cell_type": "code",
   "execution_count": null,
   "metadata": {
    "id": "kItgHCU7Wjo5"
   },
   "outputs": [],
   "source": [
    "df"
   ]
  },
  {
   "cell_type": "markdown",
   "metadata": {
    "id": "hXWb2goUWjo5"
   },
   "source": [
    "### Plotting\n",
    "\n",
    "Let's try to make some graphs from our data, for instance the number of male/female actors over time. \n",
    "\n",
    "We now have a year column that is interpreted as time by Pandas. These values can figure as values on a x-axis in a graph. The y-axis would then give info on the number of male and female actors in the movie. "
   ]
  },
  {
   "cell_type": "markdown",
   "metadata": {
    "id": "x0j1CQZOWjo5"
   },
   "source": [
    "First, we set an **index** for the DataFrame. This determines how the data can be accessed. Normally, this is a range of 0 untill the number of rows, just like in a regular Python list. But, in Pandas you can change this, so that we can analyse the dataframe on a time index. "
   ]
  },
  {
   "cell_type": "code",
   "execution_count": null,
   "metadata": {
    "id": "CX6uGkiKWjo5"
   },
   "outputs": [],
   "source": [
    "# Select only what we need\n",
    "df_actors = df[['award_year', 'male_cast', 'female_cast']]\n",
    "df_actors"
   ]
  },
  {
   "cell_type": "code",
   "execution_count": 36,
   "metadata": {
    "id": "svmSERhbWjo5"
   },
   "outputs": [
    {
     "data": {
      "text/html": [
       "<div>\n",
       "<style scoped>\n",
       "    .dataframe tbody tr th:only-of-type {\n",
       "        vertical-align: middle;\n",
       "    }\n",
       "\n",
       "    .dataframe tbody tr th {\n",
       "        vertical-align: top;\n",
       "    }\n",
       "\n",
       "    .dataframe thead th {\n",
       "        text-align: right;\n",
       "    }\n",
       "</style>\n",
       "<table border=\"1\" class=\"dataframe\">\n",
       "  <thead>\n",
       "    <tr style=\"text-align: right;\">\n",
       "      <th></th>\n",
       "      <th>male_cast</th>\n",
       "      <th>female_cast</th>\n",
       "    </tr>\n",
       "    <tr>\n",
       "      <th>award_year</th>\n",
       "      <th></th>\n",
       "      <th></th>\n",
       "    </tr>\n",
       "  </thead>\n",
       "  <tbody>\n",
       "    <tr>\n",
       "      <th>1929-01-01</th>\n",
       "      <td>12</td>\n",
       "      <td>5</td>\n",
       "    </tr>\n",
       "    <tr>\n",
       "      <th>1930-01-01</th>\n",
       "      <td>4</td>\n",
       "      <td>3</td>\n",
       "    </tr>\n",
       "    <tr>\n",
       "      <th>1930-01-01</th>\n",
       "      <td>22</td>\n",
       "      <td>6</td>\n",
       "    </tr>\n",
       "    <tr>\n",
       "      <th>1931-01-01</th>\n",
       "      <td>13</td>\n",
       "      <td>6</td>\n",
       "    </tr>\n",
       "    <tr>\n",
       "      <th>1932-01-01</th>\n",
       "      <td>19</td>\n",
       "      <td>8</td>\n",
       "    </tr>\n",
       "    <tr>\n",
       "      <th>...</th>\n",
       "      <td>...</td>\n",
       "      <td>...</td>\n",
       "    </tr>\n",
       "    <tr>\n",
       "      <th>2016-01-01</th>\n",
       "      <td>15</td>\n",
       "      <td>2</td>\n",
       "    </tr>\n",
       "    <tr>\n",
       "      <th>2017-01-01</th>\n",
       "      <td>6</td>\n",
       "      <td>2</td>\n",
       "    </tr>\n",
       "    <tr>\n",
       "      <th>2018-01-01</th>\n",
       "      <td>8</td>\n",
       "      <td>3</td>\n",
       "    </tr>\n",
       "    <tr>\n",
       "      <th>2019-01-01</th>\n",
       "      <td>7</td>\n",
       "      <td>1</td>\n",
       "    </tr>\n",
       "    <tr>\n",
       "      <th>2020-01-01</th>\n",
       "      <td>5</td>\n",
       "      <td>5</td>\n",
       "    </tr>\n",
       "  </tbody>\n",
       "</table>\n",
       "<p>85 rows × 2 columns</p>\n",
       "</div>"
      ],
      "text/plain": [
       "            male_cast  female_cast\n",
       "award_year                        \n",
       "1929-01-01         12            5\n",
       "1930-01-01          4            3\n",
       "1930-01-01         22            6\n",
       "1931-01-01         13            6\n",
       "1932-01-01         19            8\n",
       "...               ...          ...\n",
       "2016-01-01         15            2\n",
       "2017-01-01          6            2\n",
       "2018-01-01          8            3\n",
       "2019-01-01          7            1\n",
       "2020-01-01          5            5\n",
       "\n",
       "[85 rows x 2 columns]"
      ]
     },
     "execution_count": 36,
     "metadata": {},
     "output_type": "execute_result"
    }
   ],
   "source": [
    "df_actors = df_actors.set_index('award_year')\n",
    "df_actors"
   ]
  },
  {
   "cell_type": "markdown",
   "metadata": {
    "id": "NUEZBlGVWjo5"
   },
   "source": [
    "Then simply call `.plot()` on your newly created DataFrame!"
   ]
  },
  {
   "cell_type": "code",
   "execution_count": 37,
   "metadata": {
    "id": "RRotJMOQWjo5"
   },
   "outputs": [
    {
     "data": {
      "text/plain": [
       "<AxesSubplot:xlabel='award_year'>"
      ]
     },
     "execution_count": 37,
     "metadata": {},
     "output_type": "execute_result"
    },
    {
     "data": {
      "image/png": "[encoded data removed]",
      "text/plain": [
       "<Figure size 1080x720 with 1 Axes>"
      ]
     },
     "metadata": {
      "needs_background": "light"
     },
     "output_type": "display_data"
    }
   ],
   "source": [
    "df_actors.plot(figsize=(15,10))"
   ]
  },
  {
   "cell_type": "markdown",
   "metadata": {
    "id": "oP7plsOsWjo6"
   },
   "source": [
    "There are tons of parameters, functions, methods, transformations you can use on DataFrames and also on this plotting function. Luckily, plenty of guides and examples can be found on the internet."
   ]
  },
  {
   "cell_type": "markdown",
   "metadata": {
    "id": "nR5U4KjaWjo6"
   },
   "source": [
    "### Grouping"
   ]
  },
  {
   "cell_type": "code",
   "execution_count": null,
   "metadata": {
    "id": "zLuRmVx1Wjo6"
   },
   "outputs": [],
   "source": [
    "df"
   ]
  },
  {
   "cell_type": "markdown",
   "metadata": {
    "id": "EygkWZGPWjo6"
   },
   "source": [
    "Some directors have won multiple Oscars. To find out which, we have to count the number of rows in the DataFrame that include the same director. There is a Pandas function for this: `.count()`. Calling this on the DataFrame itself would give us the total number of rows only, per column. Therefore, we have to tell Pandas that we want to group by a particular column, say 'directors'."
   ]
  },
  {
   "cell_type": "code",
   "execution_count": 38,
   "metadata": {
    "id": "hH0vYKNiWjo6"
   },
   "outputs": [
    {
     "data": {
      "text/plain": [
       "<pandas.core.groupby.generic.DataFrameGroupBy object at 0x7fa9ef0d5a60>"
      ]
     },
     "execution_count": 38,
     "metadata": {},
     "output_type": "execute_result"
    }
   ],
   "source": [
    "df.groupby('directors')"
   ]
  },
  {
   "cell_type": "markdown",
   "metadata": {
    "id": "4Dz-4n6gWjo6"
   },
   "source": [
    "It does not give back something nicely formatted or interpretable. It's just another Python object. The object returned by `groupby` is a `DataFrameGroupBy` **not** a normal `DataFrame`.\n",
    "\n",
    "However, some methods of the latter work also on the former, e.g. `.head()` and `.tail()`. Let's call the `.count()` on this object:"
   ]
  },
  {
   "cell_type": "code",
   "execution_count": 39,
   "metadata": {
    "id": "cI99agV2Wjo6"
   },
   "outputs": [
    {
     "data": {
      "text/html": [
       "<div>\n",
       "<style scoped>\n",
       "    .dataframe tbody tr th:only-of-type {\n",
       "        vertical-align: middle;\n",
       "    }\n",
       "\n",
       "    .dataframe tbody tr th {\n",
       "        vertical-align: top;\n",
       "    }\n",
       "\n",
       "    .dataframe thead th {\n",
       "        text-align: right;\n",
       "    }\n",
       "</style>\n",
       "<table border=\"1\" class=\"dataframe\">\n",
       "  <thead>\n",
       "    <tr style=\"text-align: right;\">\n",
       "      <th></th>\n",
       "      <th>movie</th>\n",
       "      <th>imdb</th>\n",
       "      <th>year</th>\n",
       "      <th>award_year</th>\n",
       "      <th>companies</th>\n",
       "      <th>male_cast</th>\n",
       "      <th>female_cast</th>\n",
       "    </tr>\n",
       "    <tr>\n",
       "      <th>directors</th>\n",
       "      <th></th>\n",
       "      <th></th>\n",
       "      <th></th>\n",
       "      <th></th>\n",
       "      <th></th>\n",
       "      <th></th>\n",
       "      <th></th>\n",
       "    </tr>\n",
       "  </thead>\n",
       "  <tbody>\n",
       "    <tr>\n",
       "      <th>Alejandro González Iñárritu</th>\n",
       "      <td>1</td>\n",
       "      <td>1</td>\n",
       "      <td>1</td>\n",
       "      <td>1</td>\n",
       "      <td>1</td>\n",
       "      <td>1</td>\n",
       "      <td>1</td>\n",
       "    </tr>\n",
       "    <tr>\n",
       "      <th>Alfred Hitchcock</th>\n",
       "      <td>1</td>\n",
       "      <td>1</td>\n",
       "      <td>1</td>\n",
       "      <td>1</td>\n",
       "      <td>1</td>\n",
       "      <td>1</td>\n",
       "      <td>1</td>\n",
       "    </tr>\n",
       "    <tr>\n",
       "      <th>Anthony Minghella</th>\n",
       "      <td>1</td>\n",
       "      <td>1</td>\n",
       "      <td>1</td>\n",
       "      <td>1</td>\n",
       "      <td>1</td>\n",
       "      <td>1</td>\n",
       "      <td>1</td>\n",
       "    </tr>\n",
       "    <tr>\n",
       "      <th>Barry Jenkins</th>\n",
       "      <td>1</td>\n",
       "      <td>1</td>\n",
       "      <td>1</td>\n",
       "      <td>1</td>\n",
       "      <td>1</td>\n",
       "      <td>1</td>\n",
       "      <td>1</td>\n",
       "    </tr>\n",
       "    <tr>\n",
       "      <th>Barry Levinson</th>\n",
       "      <td>1</td>\n",
       "      <td>1</td>\n",
       "      <td>1</td>\n",
       "      <td>1</td>\n",
       "      <td>1</td>\n",
       "      <td>1</td>\n",
       "      <td>1</td>\n",
       "    </tr>\n",
       "    <tr>\n",
       "      <th>...</th>\n",
       "      <td>...</td>\n",
       "      <td>...</td>\n",
       "      <td>...</td>\n",
       "      <td>...</td>\n",
       "      <td>...</td>\n",
       "      <td>...</td>\n",
       "      <td>...</td>\n",
       "    </tr>\n",
       "    <tr>\n",
       "      <th>Vincente Minnelli, Charles Walters</th>\n",
       "      <td>1</td>\n",
       "      <td>1</td>\n",
       "      <td>1</td>\n",
       "      <td>1</td>\n",
       "      <td>1</td>\n",
       "      <td>1</td>\n",
       "      <td>1</td>\n",
       "    </tr>\n",
       "    <tr>\n",
       "      <th>Wesley Ruggles</th>\n",
       "      <td>1</td>\n",
       "      <td>1</td>\n",
       "      <td>1</td>\n",
       "      <td>1</td>\n",
       "      <td>1</td>\n",
       "      <td>1</td>\n",
       "      <td>1</td>\n",
       "    </tr>\n",
       "    <tr>\n",
       "      <th>William A. Wellman, Harry d’Abbadie d’Arrast</th>\n",
       "      <td>1</td>\n",
       "      <td>1</td>\n",
       "      <td>1</td>\n",
       "      <td>1</td>\n",
       "      <td>1</td>\n",
       "      <td>1</td>\n",
       "      <td>1</td>\n",
       "    </tr>\n",
       "    <tr>\n",
       "      <th>William Dieterle</th>\n",
       "      <td>1</td>\n",
       "      <td>1</td>\n",
       "      <td>1</td>\n",
       "      <td>1</td>\n",
       "      <td>1</td>\n",
       "      <td>1</td>\n",
       "      <td>1</td>\n",
       "    </tr>\n",
       "    <tr>\n",
       "      <th>William Wyler</th>\n",
       "      <td>3</td>\n",
       "      <td>3</td>\n",
       "      <td>3</td>\n",
       "      <td>3</td>\n",
       "      <td>3</td>\n",
       "      <td>3</td>\n",
       "      <td>3</td>\n",
       "    </tr>\n",
       "  </tbody>\n",
       "</table>\n",
       "<p>76 rows × 7 columns</p>\n",
       "</div>"
      ],
      "text/plain": [
       "                                              movie  imdb  year  award_year  \\\n",
       "directors                                                                     \n",
       "Alejandro González Iñárritu                       1     1     1           1   \n",
       "Alfred Hitchcock                                  1     1     1           1   \n",
       "Anthony Minghella                                 1     1     1           1   \n",
       "Barry Jenkins                                     1     1     1           1   \n",
       "Barry Levinson                                    1     1     1           1   \n",
       "...                                             ...   ...   ...         ...   \n",
       "Vincente Minnelli, Charles Walters                1     1     1           1   \n",
       "Wesley Ruggles                                    1     1     1           1   \n",
       "William A. Wellman, Harry d’Abbadie d’Arrast      1     1     1           1   \n",
       "William Dieterle                                  1     1     1           1   \n",
       "William Wyler                                     3     3     3           3   \n",
       "\n",
       "                                              companies  male_cast  \\\n",
       "directors                                                            \n",
       "Alejandro González Iñárritu                           1          1   \n",
       "Alfred Hitchcock                                      1          1   \n",
       "Anthony Minghella                                     1          1   \n",
       "Barry Jenkins                                         1          1   \n",
       "Barry Levinson                                        1          1   \n",
       "...                                                 ...        ...   \n",
       "Vincente Minnelli, Charles Walters                    1          1   \n",
       "Wesley Ruggles                                        1          1   \n",
       "William A. Wellman, Harry d’Abbadie d’Arrast          1          1   \n",
       "William Dieterle                                      1          1   \n",
       "William Wyler                                         3          3   \n",
       "\n",
       "                                              female_cast  \n",
       "directors                                                  \n",
       "Alejandro González Iñárritu                             1  \n",
       "Alfred Hitchcock                                        1  \n",
       "Anthony Minghella                                       1  \n",
       "Barry Jenkins                                           1  \n",
       "Barry Levinson                                          1  \n",
       "...                                                   ...  \n",
       "Vincente Minnelli, Charles Walters                      1  \n",
       "Wesley Ruggles                                          1  \n",
       "William A. Wellman, Harry d’Abbadie d’Arrast            1  \n",
       "William Dieterle                                        1  \n",
       "William Wyler                                           3  \n",
       "\n",
       "[76 rows x 7 columns]"
      ]
     },
     "execution_count": 39,
     "metadata": {},
     "output_type": "execute_result"
    }
   ],
   "source": [
    "df.groupby('directors').count()"
   ]
  },
  {
   "cell_type": "markdown",
   "metadata": {
    "id": "qJkhj3qEWjo6"
   },
   "source": [
    "Remember that this counts the numer of rows. As we know that each row is one movie, we can trim this down to:"
   ]
  },
  {
   "cell_type": "code",
   "execution_count": 40,
   "metadata": {
    "id": "nUtawB2sWjo6"
   },
   "outputs": [
    {
     "data": {
      "text/plain": [
       "directors\n",
       "Alejandro González Iñárritu                     1\n",
       "Alfred Hitchcock                                1\n",
       "Anthony Minghella                               1\n",
       "Barry Jenkins                                   1\n",
       "Barry Levinson                                  1\n",
       "                                               ..\n",
       "Vincente Minnelli, Charles Walters              1\n",
       "Wesley Ruggles                                  1\n",
       "William A. Wellman, Harry d’Abbadie d’Arrast    1\n",
       "William Dieterle                                1\n",
       "William Wyler                                   3\n",
       "Name: movie, Length: 76, dtype: int64"
      ]
     },
     "execution_count": 40,
     "metadata": {},
     "output_type": "execute_result"
    }
   ],
   "source": [
    "director_counts = df.groupby('directors').count()['movie']\n",
    "director_counts"
   ]
  },
  {
   "cell_type": "markdown",
   "metadata": {
    "id": "KjZpua8TWjo7"
   },
   "source": [
    "Now, get all directors that have won an Oscar more than once by specifying a conditional operator:"
   ]
  },
  {
   "cell_type": "code",
   "execution_count": 41,
   "metadata": {
    "id": "SXHox2feWjo7"
   },
   "outputs": [
    {
     "data": {
      "text/plain": [
       "directors\n",
       "Billy Wilder            2\n",
       "Clint Eastwood          2\n",
       "Elia Kazan              2\n",
       "Francis Ford Coppola    2\n",
       "Frank Capra             2\n",
       "Fred Zinnemann          2\n",
       "Miloš Forman            2\n",
       "William Wyler           3\n",
       "Name: movie, dtype: int64"
      ]
     },
     "execution_count": 41,
     "metadata": {},
     "output_type": "execute_result"
    }
   ],
   "source": [
    "director_counts[director_counts > 1]"
   ]
  },
  {
   "cell_type": "code",
   "execution_count": null,
   "metadata": {
    "id": "HlxIajX3Wjo7"
   },
   "outputs": [],
   "source": [
    "list(director_counts.items())"
   ]
  },
  {
   "cell_type": "code",
   "execution_count": null,
   "metadata": {
    "id": "QPhqAJSsWjo7"
   },
   "outputs": [],
   "source": [
    "for i, value in director_counts.items():\n",
    "    print(i, value)"
   ]
  },
  {
   "cell_type": "markdown",
   "metadata": {
    "id": "Wrkro7EtWjo7"
   },
   "source": [
    "### Adding a column"
   ]
  },
  {
   "cell_type": "markdown",
   "metadata": {
    "id": "PVihLONeWjo8"
   },
   "source": [
    "If we want to get the total number of actors per movie, we have to sum the values from the `male_cast` and `female_cast` columns. \n",
    "\n",
    "You can do this in a for loop, by going over every row (like we saw above), but you can also sum the individual columns. Pandas will then add up the values with the same index and will return a new Series of the same length with the values summed. "
   ]
  },
  {
   "cell_type": "code",
   "execution_count": null,
   "metadata": {
    "id": "7CGYHLtdWjo8"
   },
   "outputs": [],
   "source": [
    "df"
   ]
  },
  {
   "cell_type": "code",
   "execution_count": null,
   "metadata": {
    "id": "kgdYTcMkWjo8"
   },
   "outputs": [],
   "source": [
    "df['male_cast'] + df['female_cast']"
   ]
  },
  {
   "cell_type": "code",
   "execution_count": 44,
   "metadata": {
    "id": "iZu8HM80Wjo8"
   },
   "outputs": [
    {
     "data": {
      "text/plain": [
       "0     17\n",
       "1      7\n",
       "2     28\n",
       "3     19\n",
       "4     27\n",
       "      ..\n",
       "80    17\n",
       "81     8\n",
       "82    11\n",
       "83     8\n",
       "84    10\n",
       "Length: 85, dtype: int64"
      ]
     },
     "execution_count": 44,
     "metadata": {},
     "output_type": "execute_result"
    }
   ],
   "source": [
    "total_cast = df['male_cast'] + df['female_cast']\n",
    "total_cast"
   ]
  },
  {
   "cell_type": "markdown",
   "metadata": {
    "id": "LHBoYnnJWjo8"
   },
   "source": [
    "Then, we add it as a column in our original dataframe. The only requirement for adding a column to a DataFrame is that the length of the Series or list is the same as that of the DataFrame. "
   ]
  },
  {
   "cell_type": "code",
   "execution_count": 45,
   "metadata": {
    "id": "6to7wyDKWjo8"
   },
   "outputs": [
    {
     "data": {
      "text/html": [
       "<div>\n",
       "<style scoped>\n",
       "    .dataframe tbody tr th:only-of-type {\n",
       "        vertical-align: middle;\n",
       "    }\n",
       "\n",
       "    .dataframe tbody tr th {\n",
       "        vertical-align: top;\n",
       "    }\n",
       "\n",
       "    .dataframe thead th {\n",
       "        text-align: right;\n",
       "    }\n",
       "</style>\n",
       "<table border=\"1\" class=\"dataframe\">\n",
       "  <thead>\n",
       "    <tr style=\"text-align: right;\">\n",
       "      <th></th>\n",
       "      <th>movie</th>\n",
       "      <th>imdb</th>\n",
       "      <th>year</th>\n",
       "      <th>award_year</th>\n",
       "      <th>directors</th>\n",
       "      <th>companies</th>\n",
       "      <th>male_cast</th>\n",
       "      <th>female_cast</th>\n",
       "      <th>total_cast</th>\n",
       "    </tr>\n",
       "  </thead>\n",
       "  <tbody>\n",
       "    <tr>\n",
       "      <th>0</th>\n",
       "      <td>Wings</td>\n",
       "      <td>tt0018578</td>\n",
       "      <td>1927-01-01</td>\n",
       "      <td>1929-01-01</td>\n",
       "      <td>William A. Wellman, Harry d’Abbadie d’Arrast</td>\n",
       "      <td>Paramount Pictures</td>\n",
       "      <td>12</td>\n",
       "      <td>5</td>\n",
       "      <td>17</td>\n",
       "    </tr>\n",
       "    <tr>\n",
       "      <th>1</th>\n",
       "      <td>The Broadway Melody</td>\n",
       "      <td>tt0019729</td>\n",
       "      <td>1929-01-01</td>\n",
       "      <td>1930-01-01</td>\n",
       "      <td>Harry Beaumont</td>\n",
       "      <td>Metro-Goldwyn-Mayer</td>\n",
       "      <td>4</td>\n",
       "      <td>3</td>\n",
       "      <td>7</td>\n",
       "    </tr>\n",
       "    <tr>\n",
       "      <th>2</th>\n",
       "      <td>All Quiet on the Western Front</td>\n",
       "      <td>tt0020629</td>\n",
       "      <td>1930-01-01</td>\n",
       "      <td>1930-01-01</td>\n",
       "      <td>Lewis Milestone, Nate Watt</td>\n",
       "      <td>Universal Pictures</td>\n",
       "      <td>22</td>\n",
       "      <td>6</td>\n",
       "      <td>28</td>\n",
       "    </tr>\n",
       "    <tr>\n",
       "      <th>3</th>\n",
       "      <td>Cimarron</td>\n",
       "      <td>tt0021746</td>\n",
       "      <td>1931-01-01</td>\n",
       "      <td>1931-01-01</td>\n",
       "      <td>Wesley Ruggles</td>\n",
       "      <td>RKO Pictures</td>\n",
       "      <td>13</td>\n",
       "      <td>6</td>\n",
       "      <td>19</td>\n",
       "    </tr>\n",
       "    <tr>\n",
       "      <th>4</th>\n",
       "      <td>Grand Hotel</td>\n",
       "      <td>tt0022958</td>\n",
       "      <td>1932-01-01</td>\n",
       "      <td>1932-01-01</td>\n",
       "      <td>Edmund Goulding</td>\n",
       "      <td>Metro-Goldwyn-Mayer</td>\n",
       "      <td>19</td>\n",
       "      <td>8</td>\n",
       "      <td>27</td>\n",
       "    </tr>\n",
       "    <tr>\n",
       "      <th>...</th>\n",
       "      <td>...</td>\n",
       "      <td>...</td>\n",
       "      <td>...</td>\n",
       "      <td>...</td>\n",
       "      <td>...</td>\n",
       "      <td>...</td>\n",
       "      <td>...</td>\n",
       "      <td>...</td>\n",
       "      <td>...</td>\n",
       "    </tr>\n",
       "    <tr>\n",
       "      <th>80</th>\n",
       "      <td>Spotlight</td>\n",
       "      <td>tt1895587</td>\n",
       "      <td>2015-01-01</td>\n",
       "      <td>2016-01-01</td>\n",
       "      <td>Tom McCarthy</td>\n",
       "      <td>Anonymous Content, Participant</td>\n",
       "      <td>15</td>\n",
       "      <td>2</td>\n",
       "      <td>17</td>\n",
       "    </tr>\n",
       "    <tr>\n",
       "      <th>81</th>\n",
       "      <td>Moonlight</td>\n",
       "      <td>tt4975722</td>\n",
       "      <td>2016-01-01</td>\n",
       "      <td>2017-01-01</td>\n",
       "      <td>Barry Jenkins</td>\n",
       "      <td>Plan B Entertainment, A24</td>\n",
       "      <td>6</td>\n",
       "      <td>2</td>\n",
       "      <td>8</td>\n",
       "    </tr>\n",
       "    <tr>\n",
       "      <th>82</th>\n",
       "      <td>The Shape of Water</td>\n",
       "      <td>tt5580390</td>\n",
       "      <td>2017-01-01</td>\n",
       "      <td>2018-01-01</td>\n",
       "      <td>Guillermo del Toro</td>\n",
       "      <td>Searchlight Pictures, TSG Entertainment</td>\n",
       "      <td>8</td>\n",
       "      <td>3</td>\n",
       "      <td>11</td>\n",
       "    </tr>\n",
       "    <tr>\n",
       "      <th>83</th>\n",
       "      <td>Green Book</td>\n",
       "      <td>tt6966692</td>\n",
       "      <td>2018-01-01</td>\n",
       "      <td>2019-01-01</td>\n",
       "      <td>Peter Farrelly</td>\n",
       "      <td>Universal Pictures, DreamWorks, Participant, A...</td>\n",
       "      <td>7</td>\n",
       "      <td>1</td>\n",
       "      <td>8</td>\n",
       "    </tr>\n",
       "    <tr>\n",
       "      <th>84</th>\n",
       "      <td>Parasite</td>\n",
       "      <td>tt6751668</td>\n",
       "      <td>2019-01-01</td>\n",
       "      <td>2020-01-01</td>\n",
       "      <td>Bong Joon-ho</td>\n",
       "      <td>CJ Entertainment, Barunson E&amp;A</td>\n",
       "      <td>5</td>\n",
       "      <td>5</td>\n",
       "      <td>10</td>\n",
       "    </tr>\n",
       "  </tbody>\n",
       "</table>\n",
       "<p>85 rows × 9 columns</p>\n",
       "</div>"
      ],
      "text/plain": [
       "                             movie       imdb       year award_year  \\\n",
       "0                            Wings  tt0018578 1927-01-01 1929-01-01   \n",
       "1              The Broadway Melody  tt0019729 1929-01-01 1930-01-01   \n",
       "2   All Quiet on the Western Front  tt0020629 1930-01-01 1930-01-01   \n",
       "3                         Cimarron  tt0021746 1931-01-01 1931-01-01   \n",
       "4                      Grand Hotel  tt0022958 1932-01-01 1932-01-01   \n",
       "..                             ...        ...        ...        ...   \n",
       "80                       Spotlight  tt1895587 2015-01-01 2016-01-01   \n",
       "81                       Moonlight  tt4975722 2016-01-01 2017-01-01   \n",
       "82              The Shape of Water  tt5580390 2017-01-01 2018-01-01   \n",
       "83                      Green Book  tt6966692 2018-01-01 2019-01-01   \n",
       "84                        Parasite  tt6751668 2019-01-01 2020-01-01   \n",
       "\n",
       "                                       directors  \\\n",
       "0   William A. Wellman, Harry d’Abbadie d’Arrast   \n",
       "1                                 Harry Beaumont   \n",
       "2                     Lewis Milestone, Nate Watt   \n",
       "3                                 Wesley Ruggles   \n",
       "4                                Edmund Goulding   \n",
       "..                                           ...   \n",
       "80                                  Tom McCarthy   \n",
       "81                                 Barry Jenkins   \n",
       "82                            Guillermo del Toro   \n",
       "83                                Peter Farrelly   \n",
       "84                                  Bong Joon-ho   \n",
       "\n",
       "                                            companies  male_cast  female_cast  \\\n",
       "0                                  Paramount Pictures         12            5   \n",
       "1                                 Metro-Goldwyn-Mayer          4            3   \n",
       "2                                  Universal Pictures         22            6   \n",
       "3                                        RKO Pictures         13            6   \n",
       "4                                 Metro-Goldwyn-Mayer         19            8   \n",
       "..                                                ...        ...          ...   \n",
       "80                     Anonymous Content, Participant         15            2   \n",
       "81                          Plan B Entertainment, A24          6            2   \n",
       "82            Searchlight Pictures, TSG Entertainment          8            3   \n",
       "83  Universal Pictures, DreamWorks, Participant, A...          7            1   \n",
       "84                     CJ Entertainment, Barunson E&A          5            5   \n",
       "\n",
       "    total_cast  \n",
       "0           17  \n",
       "1            7  \n",
       "2           28  \n",
       "3           19  \n",
       "4           27  \n",
       "..         ...  \n",
       "80          17  \n",
       "81           8  \n",
       "82          11  \n",
       "83           8  \n",
       "84          10  \n",
       "\n",
       "[85 rows x 9 columns]"
      ]
     },
     "execution_count": 45,
     "metadata": {},
     "output_type": "execute_result"
    }
   ],
   "source": [
    "df['total_cast'] = total_cast\n",
    "df"
   ]
  },
  {
   "cell_type": "markdown",
   "metadata": {
    "id": "vH981_n7Wjo9"
   },
   "source": [
    "Optionally, we can sort the DataFrame by column. For instance, from high to low (`ascending=False`) for the newly created `total_cast` column."
   ]
  },
  {
   "cell_type": "code",
   "execution_count": 46,
   "metadata": {
    "id": "3hS0W5q5Wjo9"
   },
   "outputs": [
    {
     "data": {
      "text/html": [
       "<div>\n",
       "<style scoped>\n",
       "    .dataframe tbody tr th:only-of-type {\n",
       "        vertical-align: middle;\n",
       "    }\n",
       "\n",
       "    .dataframe tbody tr th {\n",
       "        vertical-align: top;\n",
       "    }\n",
       "\n",
       "    .dataframe thead th {\n",
       "        text-align: right;\n",
       "    }\n",
       "</style>\n",
       "<table border=\"1\" class=\"dataframe\">\n",
       "  <thead>\n",
       "    <tr style=\"text-align: right;\">\n",
       "      <th></th>\n",
       "      <th>movie</th>\n",
       "      <th>imdb</th>\n",
       "      <th>year</th>\n",
       "      <th>award_year</th>\n",
       "      <th>directors</th>\n",
       "      <th>companies</th>\n",
       "      <th>male_cast</th>\n",
       "      <th>female_cast</th>\n",
       "      <th>total_cast</th>\n",
       "    </tr>\n",
       "  </thead>\n",
       "  <tbody>\n",
       "    <tr>\n",
       "      <th>59</th>\n",
       "      <td>Forrest Gump</td>\n",
       "      <td>tt0109830</td>\n",
       "      <td>1994-01-01</td>\n",
       "      <td>1995-01-01</td>\n",
       "      <td>Robert Zemeckis</td>\n",
       "      <td>Paramount Pictures</td>\n",
       "      <td>89</td>\n",
       "      <td>29</td>\n",
       "      <td>118</td>\n",
       "    </tr>\n",
       "    <tr>\n",
       "      <th>10</th>\n",
       "      <td>Gone with the Wind</td>\n",
       "      <td>tt0031381</td>\n",
       "      <td>1939-01-01</td>\n",
       "      <td>1940-01-01</td>\n",
       "      <td>George Cukor, Victor Fleming, Sam Wood</td>\n",
       "      <td>Metro-Goldwyn-Mayer, Selznick International Pi...</td>\n",
       "      <td>52</td>\n",
       "      <td>20</td>\n",
       "      <td>72</td>\n",
       "    </tr>\n",
       "    <tr>\n",
       "      <th>13</th>\n",
       "      <td>Casablanca</td>\n",
       "      <td>tt0034583</td>\n",
       "      <td>1942-01-01</td>\n",
       "      <td>1944-01-01</td>\n",
       "      <td>Michael Curtiz</td>\n",
       "      <td>Warner Bros.</td>\n",
       "      <td>40</td>\n",
       "      <td>8</td>\n",
       "      <td>48</td>\n",
       "    </tr>\n",
       "    <tr>\n",
       "      <th>58</th>\n",
       "      <td>Schindler's List</td>\n",
       "      <td>tt0108052</td>\n",
       "      <td>1993-01-01</td>\n",
       "      <td>1994-01-01</td>\n",
       "      <td>Steven Spielberg, Marek Brodzki</td>\n",
       "      <td>Amblin Entertainment</td>\n",
       "      <td>35</td>\n",
       "      <td>11</td>\n",
       "      <td>46</td>\n",
       "    </tr>\n",
       "    <tr>\n",
       "      <th>41</th>\n",
       "      <td>The Godfather Part II</td>\n",
       "      <td>tt0071562</td>\n",
       "      <td>1974-01-01</td>\n",
       "      <td>1975-01-01</td>\n",
       "      <td>Francis Ford Coppola</td>\n",
       "      <td>Paramount Pictures</td>\n",
       "      <td>33</td>\n",
       "      <td>12</td>\n",
       "      <td>45</td>\n",
       "    </tr>\n",
       "    <tr>\n",
       "      <th>...</th>\n",
       "      <td>...</td>\n",
       "      <td>...</td>\n",
       "      <td>...</td>\n",
       "      <td>...</td>\n",
       "      <td>...</td>\n",
       "      <td>...</td>\n",
       "      <td>...</td>\n",
       "      <td>...</td>\n",
       "      <td>...</td>\n",
       "    </tr>\n",
       "    <tr>\n",
       "      <th>54</th>\n",
       "      <td>Driving Miss Daisy</td>\n",
       "      <td>tt0097239</td>\n",
       "      <td>1989-01-01</td>\n",
       "      <td>1990-01-01</td>\n",
       "      <td>Bruce Beresford</td>\n",
       "      <td>Warner Bros.</td>\n",
       "      <td>4</td>\n",
       "      <td>4</td>\n",
       "      <td>8</td>\n",
       "    </tr>\n",
       "    <tr>\n",
       "      <th>81</th>\n",
       "      <td>Moonlight</td>\n",
       "      <td>tt4975722</td>\n",
       "      <td>2016-01-01</td>\n",
       "      <td>2017-01-01</td>\n",
       "      <td>Barry Jenkins</td>\n",
       "      <td>Plan B Entertainment, A24</td>\n",
       "      <td>6</td>\n",
       "      <td>2</td>\n",
       "      <td>8</td>\n",
       "    </tr>\n",
       "    <tr>\n",
       "      <th>83</th>\n",
       "      <td>Green Book</td>\n",
       "      <td>tt6966692</td>\n",
       "      <td>2018-01-01</td>\n",
       "      <td>2019-01-01</td>\n",
       "      <td>Peter Farrelly</td>\n",
       "      <td>Universal Pictures, DreamWorks, Participant, A...</td>\n",
       "      <td>7</td>\n",
       "      <td>1</td>\n",
       "      <td>8</td>\n",
       "    </tr>\n",
       "    <tr>\n",
       "      <th>50</th>\n",
       "      <td>Amadeus</td>\n",
       "      <td>tt0086879</td>\n",
       "      <td>1984-01-01</td>\n",
       "      <td>1985-01-01</td>\n",
       "      <td>Miloš Forman</td>\n",
       "      <td>Orion Pictures</td>\n",
       "      <td>5</td>\n",
       "      <td>2</td>\n",
       "      <td>7</td>\n",
       "    </tr>\n",
       "    <tr>\n",
       "      <th>1</th>\n",
       "      <td>The Broadway Melody</td>\n",
       "      <td>tt0019729</td>\n",
       "      <td>1929-01-01</td>\n",
       "      <td>1930-01-01</td>\n",
       "      <td>Harry Beaumont</td>\n",
       "      <td>Metro-Goldwyn-Mayer</td>\n",
       "      <td>4</td>\n",
       "      <td>3</td>\n",
       "      <td>7</td>\n",
       "    </tr>\n",
       "  </tbody>\n",
       "</table>\n",
       "<p>85 rows × 9 columns</p>\n",
       "</div>"
      ],
      "text/plain": [
       "                    movie       imdb       year award_year  \\\n",
       "59           Forrest Gump  tt0109830 1994-01-01 1995-01-01   \n",
       "10     Gone with the Wind  tt0031381 1939-01-01 1940-01-01   \n",
       "13             Casablanca  tt0034583 1942-01-01 1944-01-01   \n",
       "58       Schindler's List  tt0108052 1993-01-01 1994-01-01   \n",
       "41  The Godfather Part II  tt0071562 1974-01-01 1975-01-01   \n",
       "..                    ...        ...        ...        ...   \n",
       "54     Driving Miss Daisy  tt0097239 1989-01-01 1990-01-01   \n",
       "81              Moonlight  tt4975722 2016-01-01 2017-01-01   \n",
       "83             Green Book  tt6966692 2018-01-01 2019-01-01   \n",
       "50                Amadeus  tt0086879 1984-01-01 1985-01-01   \n",
       "1     The Broadway Melody  tt0019729 1929-01-01 1930-01-01   \n",
       "\n",
       "                                 directors  \\\n",
       "59                         Robert Zemeckis   \n",
       "10  George Cukor, Victor Fleming, Sam Wood   \n",
       "13                          Michael Curtiz   \n",
       "58         Steven Spielberg, Marek Brodzki   \n",
       "41                    Francis Ford Coppola   \n",
       "..                                     ...   \n",
       "54                         Bruce Beresford   \n",
       "81                           Barry Jenkins   \n",
       "83                          Peter Farrelly   \n",
       "50                            Miloš Forman   \n",
       "1                           Harry Beaumont   \n",
       "\n",
       "                                            companies  male_cast  female_cast  \\\n",
       "59                                 Paramount Pictures         89           29   \n",
       "10  Metro-Goldwyn-Mayer, Selznick International Pi...         52           20   \n",
       "13                                       Warner Bros.         40            8   \n",
       "58                               Amblin Entertainment         35           11   \n",
       "41                                 Paramount Pictures         33           12   \n",
       "..                                                ...        ...          ...   \n",
       "54                                       Warner Bros.          4            4   \n",
       "81                          Plan B Entertainment, A24          6            2   \n",
       "83  Universal Pictures, DreamWorks, Participant, A...          7            1   \n",
       "50                                     Orion Pictures          5            2   \n",
       "1                                 Metro-Goldwyn-Mayer          4            3   \n",
       "\n",
       "    total_cast  \n",
       "59         118  \n",
       "10          72  \n",
       "13          48  \n",
       "58          46  \n",
       "41          45  \n",
       "..         ...  \n",
       "54           8  \n",
       "81           8  \n",
       "83           8  \n",
       "50           7  \n",
       "1            7  \n",
       "\n",
       "[85 rows x 9 columns]"
      ]
     },
     "execution_count": 46,
     "metadata": {},
     "output_type": "execute_result"
    }
   ],
   "source": [
    "df_sorted = df.sort_values('total_cast', ascending=False)\n",
    "df_sorted"
   ]
  },
  {
   "cell_type": "markdown",
   "metadata": {},
   "source": [
    "### Quiz\n",
    "\n",
    "* Make a plot of the total number of actors performing in award-winning movies over time.\n"
   ]
  },
  {
   "cell_type": "code",
   "execution_count": null,
   "metadata": {},
   "outputs": [],
   "source": [
    "# Your code here"
   ]
  },
  {
   "cell_type": "markdown",
   "metadata": {
    "id": "NBkSgHX4Wjo9"
   },
   "source": [
    "### Saving back the file"
   ]
  },
  {
   "cell_type": "markdown",
   "metadata": {
    "id": "zhuYIfQOWjo9"
   },
   "source": [
    "Use one of the `.to_csv()` or `.to_excel` functions to save the DataFrame. Again, no `with` statement needed, just a file path (and an encoding)."
   ]
  },
  {
   "cell_type": "code",
   "execution_count": null,
   "metadata": {
    "id": "XhUVyeZnWjo9"
   },
   "outputs": [],
   "source": [
    "df_sorted.to_csv('stuff/academyawards_sum.csv', encoding='utf-8')"
   ]
  },
  {
   "cell_type": "code",
   "execution_count": null,
   "metadata": {
    "id": "IAXnSFHkWjo9"
   },
   "outputs": [],
   "source": [
    "df_sorted.to_excel('stuff/academyawards_sum.xlsx')"
   ]
  },
  {
   "cell_type": "markdown",
   "metadata": {
    "id": "FP13dqU7Wjo-"
   },
   "source": [
    "You need to specify `index=False` if you want to prevent a standard index (0,1,2,3...) to be saved in the file as well. "
   ]
  },
  {
   "cell_type": "code",
   "execution_count": null,
   "metadata": {
    "id": "-eZWRlh7Wjo-"
   },
   "outputs": [],
   "source": [
    "df_sorted.to_csv('stuff/academyawards_sum.csv', encoding='utf-8', index=False)"
   ]
  },
  {
   "cell_type": "markdown",
   "metadata": {
    "id": "IR914S1_Wjo-"
   },
   "source": [
    "Open the contents in Excel, LibreOffice Calc, or another program to read spreadsheets!"
   ]
  },
  {
   "cell_type": "markdown",
   "metadata": {
    "id": "QoyJmpb3Wjo-"
   },
   "source": [
    "---"
   ]
  },
  {
   "cell_type": "markdown",
   "metadata": {
    "id": "-vE_Pm5rWjpT"
   },
   "source": [
    "### Exercise 1.\n",
    "\n",
    "Read the file `data/adams-hhgttg.txt` and:\n",
    "\n",
    "- Count the number of occurrences per distinct word in the text.\n",
    "\n",
    "- Create a data frame with two columns: word and counts.\n",
    "\n",
    "- Plot the histogram of the word frequencies and describe what is happening."
   ]
  },
  {
   "cell_type": "code",
   "execution_count": null,
   "metadata": {
    "id": "LuDfR5K4WjpT"
   },
   "outputs": [],
   "source": [
    "# Your code here."
   ]
  },
  {
   "cell_type": "markdown",
   "metadata": {
    "id": "XOOk4v2xWjpT"
   },
   "source": [
    "---"
   ]
  }
 ],
 "metadata": {
  "colab": {
   "name": "4_PandasDataWrangling.ipynb",
   "provenance": []
  },
  "kernelspec": {
   "display_name": "Python 3 (ipykernel)",
   "language": "python",
   "name": "python3"
  },
  "language_info": {
   "codemirror_mode": {
    "name": "ipython",
    "version": 3
   },
   "file_extension": ".py",
   "mimetype": "text/x-python",
   "name": "python",
   "nbconvert_exporter": "python",
   "pygments_lexer": "ipython3",
   "version": "3.8.13"
  },
  "toc": {
   "base_numbering": 1,
   "nav_menu": {},
   "number_sections": false,
   "sideBar": true,
   "skip_h1_title": false,
   "title_cell": "Table of Contents",
   "title_sidebar": "Contents",
   "toc_cell": false,
   "toc_position": {
    "height": "calc(100% - 180px)",
    "left": "10px",
    "top": "150px",
    "width": "384px"
   },
   "toc_section_display": true,
   "toc_window_display": true
  }
 },
 "nbformat": 4,
 "nbformat_minor": 4
}
